{
 "cells": [
  {
   "cell_type": "code",
   "execution_count": 7,
   "id": "7c289b3a",
   "metadata": {},
   "outputs": [],
   "source": [
    "from google import genai\n",
    "from google.genai import types"
   ]
  },
  {
   "cell_type": "code",
   "execution_count": 1,
   "id": "fdbd815f",
   "metadata": {},
   "outputs": [],
   "source": [
    "import pika;\n",
    "import json;\n",
    "import mysql.connector;"
   ]
  },
  {
   "cell_type": "code",
   "execution_count": 5,
   "id": "3d1c8807",
   "metadata": {},
   "outputs": [],
   "source": [
    "text_input = '''President Trump on Thursday moved forward with new rules aimed at undermining China’s strength in commercial shipping, but the measures were softened after ocean carriers and importers said the regulations could push up the cost of shipping.Chinese shipping companies and many owners of Chinese-built ships will now have to pay fees when they dock at U.S. ports. But under the more lenient version of the rules, the biggest shipping companies will most likely pay significantly less and smaller ones will be exempt.The Trump administration said the measures were necessary because China had used unfair trade practices like subsidies to become dominant in shipbuilding. The rules also aim to foster the growth of the American shipbuilding industry, which has withered in recent decades. The rules give shipping lines refunds on their fees if they buy American-made ships in the next few years.“The Trump administration’s actions will begin to reverse Chinese dominance, address threats to the U.S. supply chain and send a demand signal for U.S.-built ships,” Jamieson Greer, the head of the Office of the United States Trade Representative, which formulated the rules, said in statement.The new rules originated from a petition filed during the Biden administration by a collection of unions, including the United Steelworkers and the AFL-CIO, that requested an investigation into Chinese shipbuilding. The Biden administration carried out the investigation and issued a finding shortly before Mr. Trump took office in January. That finding said China had displaced foreign firms in the shipbuilding sector and unfairly hurt U.S. commerce.David McCall, the president of the United Steelworkers, said the government’s “thorough investigation validated our charges, and today’s announcement lays out a series of strong steps to restore U.S. shipbuilding capacity.”Both Democrats and Republicans have grown more concerned about the nation’s heavy reliance on China to move goods around the world. But isolating and penalizing Chinese shipping could strain supply chains. The fleets of the biggest shipping lines contain large numbers of Chinese-built vessels, and Chinese-owned operators transport huge amounts of goods to the United States. Critics of the new rules say they will only add costs to supply chains at a time when importers have to bear the expense of new tariffs imposed by the Trump administration.“When ocean carriers raise rates, American families will pay the price through higher costs and growing product shortages, at a time when they can least afford it,” said Nate Herman, a senior vice president at the American Apparel and Footwear Association.Skeptics in the maritime industry said the new rules would not lead to a renaissance in U.S. shipbuilding because American shipyards lacked capacity and charged much more for their vessels than foreign rivals did.“I don’t see anything in here that would boost shipbuilding in the U.S.,” said Lars Jensen, the chief executive of Vespucci Maritime, a container shipping consultancy based in Copenhagen.A 2023 report for Congress said China was building hundreds of large ships a year while the United States was building “five or fewer.” After China, South Korea and Japan make most of the large commercial vessels.In making the rules more lenient, the Trump administration did away with a draft provision that would have applied a fee on all ships belonging to a shipping line with a fleet in which 25 percent or more of the vessels were Chinese-built.It also decided against applying a flat $1.5 million fee on Chinese-built vessels. Now, the fee on such vessels will be calculated on weight or number of containers, charging whichever is highest. Starting in October, when the rules take effect, the United States will charge a shipping line $150 per container, rising to $250 in 2028. At $150, a vessel bringing in 7,000 containers would pay just over $1 million.Vessels belonging to Chinese shipping lines will pay a fee based on their weight — $50 per net ton, starting in October, rising to $140 per net ton in 2028. The vessels of Chinese-owned shipping lines will not be charged more than five times a year.Vessels making voyages under 2,000 nautical miles to American ports do not have to pay the fee, a huge relief to the shipping lines that make voyages to the Caribbean and in the Great Lakes. Smaller vessels are also exempt.The original rules suggested that the fees would be charged each time a Chinese-owned or Chinese-built vessel docked at a U.S. port (shipping lines may visit several East Coast ports on one voyage), which prompted fear that ocean carriers would stop visiting smaller ports.But the final regulations say the fee will be charged only at one port.Mr. Jensen, the maritime consultant, said he expected the large shipping lines to rejig their operations to reduce the number of Chinese-built ships sailing to the United States. “The only name of the game right now is how much you minimize the costs by changing where you deploy which ships,” he said.The rules also try to create a path to building vessels in the United States that carry liquefied natural gas, or L.N.G., one of the country’s most important exports. The rules say that, by 2029, 1 percent of L.N.G. exports must be carried on American-built vessels.Colin Grabow, an associate director at the Cato Institute, a research organization that favors free markets, said that the United States had not built an L.N.G. carrier since 1980, and that it would not be able to build one within four years, given the lack of shipyard capacity and expertise in the country.“Getting even one L.N.G. carrier in operation by 2029 is not at all feasible,” he said.'''"
   ]
  },
  {
   "cell_type": "code",
   "execution_count": 8,
   "id": "268bc64a",
   "metadata": {},
   "outputs": [],
   "source": [
    "gemini_key = ''\n",
    "with open(\"config\", \"r\", encoding=\"utf-8\") as f:\n",
    "    gemini_key = f.read()"
   ]
  },
  {
   "cell_type": "code",
   "execution_count": 2,
   "id": "85c7fbb9",
   "metadata": {},
   "outputs": [],
   "source": [
    "mq_host = \"192.168.0.202\" #'rabbitmq'\n",
    "mq_port = 5672\n",
    "mysql_host = \"192.168.0.202\" #'news-mysql'\n",
    "mysql_port = 4000 #3306"
   ]
  },
  {
   "cell_type": "code",
   "execution_count": 3,
   "id": "27405f70",
   "metadata": {},
   "outputs": [],
   "source": [
    "mq_conn = pika.BlockingConnection(pika.ConnectionParameters(host=mq_host, port=mq_port))\n",
    "channel = mq_conn.channel()\n",
    "\n",
    "db_conn = mysql.connector.connect(\n",
    "    host=mysql_host,\n",
    "    port=mysql_port,\n",
    "    user=\"root\",\n",
    "    password=\"password\",\n",
    "    database=\"news\"\n",
    ")"
   ]
  },
  {
   "cell_type": "code",
   "execution_count": null,
   "id": "a8250e89",
   "metadata": {},
   "outputs": [],
   "source": [
    "test_public = '''{\"id\": \"https://www.nytimes.com/2025/04/20/world/asia/australia-waves-queensland-sydney.html\", \"title\": \"6 Killed as Giant Waves Batter Australia\", \"url\": \"https://www.nytimes.com/2025/04/20/world/asia/australia-waves-queensland-sydney.html\", \"author\": \"Yan Zhuang\", \"date\": \"Sun, 20 Apr 2025 09:37:40 +0000\"}'''"
   ]
  },
  {
   "cell_type": "code",
   "execution_count": 4,
   "id": "8853585f",
   "metadata": {},
   "outputs": [],
   "source": [
    "channel.basic_publish(exchange='news.fetch', routing_key='summary', body='test')"
   ]
  },
  {
   "cell_type": "code",
   "execution_count": 5,
   "id": "f9d599b1",
   "metadata": {},
   "outputs": [],
   "source": [
    "method_frame, header_frame, body = channel.basic_get(queue='summary', auto_ack=False)\n",
    "channel.basic_ack(delivery_tag=method_frame.delivery_tag)"
   ]
  },
  {
   "cell_type": "code",
   "execution_count": 10,
   "id": "33efc27f",
   "metadata": {},
   "outputs": [],
   "source": [
    "get_sql = \"SELECT context FROM news WHERE URL = %s\"\n",
    "update_sql = \"UPDATE news SET summary = %s WHERE URL = %s;\""
   ]
  },
  {
   "cell_type": "code",
   "execution_count": 9,
   "id": "e2809c94",
   "metadata": {},
   "outputs": [],
   "source": [
    "test_URL = 'https://www.nytimes.com/2025/04/20/briefing/ukraine-easter-truce-syria-massacre-state-department-africa.html'"
   ]
  },
  {
   "cell_type": "code",
   "execution_count": 11,
   "id": "c4395b02",
   "metadata": {},
   "outputs": [],
   "source": [
    "cursor = db_conn.cursor(dictionary=True)\n",
    "cursor.execute(get_sql,[test_URL])\n",
    "rows = cursor.fetchall()"
   ]
  },
  {
   "cell_type": "code",
   "execution_count": 12,
   "id": "18634286",
   "metadata": {},
   "outputs": [
    {
     "data": {
      "text/plain": [
       "[{'context': 'Ukraine and Russia yesterday accused each other of violating an Easter truce declared by President Vladimir Putin on Saturday afternoon. The cease-fire, announced as lasting 30 hours, appeared to be a gambit by Putin to show the U.S. that Russia was serious about peace.President Volodymyr Zelensky of Ukraine, who had agreed to abide by the truce so long as Russia did, said that Russian troops had fired artillery, ambushed troops and used drones. Russia’s defense ministry said that its forces had observed the truce, and accused Ukraine of violating it with drones and nighttime attacks.A Ukrainian drone unit commander said that the fighting in eastern Ukraine during the cease-fire was similar to how it had been since Russia launched its full-scale invasion in February 2022. “So in reality, there was no cease-fire at all,” he said.U.S. threat to move on: On Friday, Secretary of State Marco Rubio said that if the U.S. could not make progress in ending the war, it would walk away. The remarks appeared to pile pressure on Ukraine.Minerals deal: President Trump has said that he expects to sign a full minerals deal with Ukraine this week. Negotiations on the deal stalled after a blowup weeks ago between the leaders in the Oval Office.A Times reporter and a photographer traveled to the city of Baniyas in Syria, the site of sectarian violence last month. Over three days, gunmen went house to house, summarily executing civilians and opening fire in the streets, according to dozens of residents.My colleagues were able to report from the city for nearly a day as the killings unfolded. What they found was evidence of a massacre targeting the Alawites, the group that dominated the Syrian elite during the Assad family’s decades-long rule. The reporting also showed how little control the new government exercises over the various armed groups and former rebels that have joined the administration.In this video, Christina Goldbaum, The Times’s bureau chief in Syria, explained how at least 300 people were killed over three days in Baniyas in early March.A draft executive order proposes a drastic restructuring of the State Department, including the elimination of almost all of its Africa operations and the shutdown of embassies and consulates across the continent, according to U.S. officials and a copy of the draft.The draft called for eliminating the bureau of African affairs, which oversees U.S. policy in sub-Saharan Africa, and shutting down the bureau overseeing democracy and human rights issues; one that handles refugees and migration; and another that works with international organizations. It was not immediately clear who had compiled the document or what stage of internal debates it reflected. Substantial parts of the draft, if officials tried to enact them, would most likely face lawsuits.A ruling by the Supreme Court early Saturday blocked the Trump administration from deporting a group of Venezuelans, ignoring some protocols.Thousands of protesters took to the streets in the U.S. on Saturday to speak out against Trump’s policies.Sometimes the billionaires running the government sound like they’re talking to other billionaires. Democrats say they’re out of touch.Several former members of Trump’s first administration signed an open letter likening his actions to those of a “royal despot.”Trump says he wants Xi Jinping, China’s leader, to call him to talk tariffs. But Xi is ghosting him.Track Trump’s actions since he took office.Gaza: An Israeli commander will be dismissed after an investigation into the killings of medics last month identified “several professional failures.”Pope: Francis blessed tens of thousands gathered in St. Peter’s Square for Easter Mass, but a Vatican aide delivered his papal address.Vatican: Francis, who has criticized Trump’s deportation policies, also met briefly with Vice President JD Vance in Rome.Australia: Six people died when huge waves battered Sydney and other places along the east coast.Sudan: After Trump froze all U.S. foreign aid, hundreds of soup kitchens closed within days as famine spread.Canada: In a week, voters will choose between two starkly different candidates — Mark Carney and Pierre Poilievre — to lead the country through a crisis brought on by Trump.Iran: The U.S. and Iran will hold additional negotiations on a nuclear deal in the coming days, following a meeting in Rome on Saturday.Middle East: Saudi Arabia supports nuclear talks with its rival, Iran. The shift shows how much the region has changed.China: More than half of U.S. soybeans are sold to China. With new steep tariffs, farmers in Brazil and Argentina may get that business.El Salvador: Inmates at a notorious prison, where the U.S. has sent deportees, are subjected to extreme isolation. Here’s what it’s like.Education: The loss of international students could devastate many U.S. colleges.Tunisia: In a sign of deepening repression, a court sentenced about 40 opposition figures to up to 66 years in prison.Japan: Osaka is hosting the World Expo again, stirring memories of an exhibition in 1970, when the economy was taking off.Soccer: Taylor Swift and a lot of Coldplay: What music do Premier League stars actually listen to?Tennis: Holger Rune catapulted into the top 10 of the men’s rankings with his victory over Carlos Alcaraz at the Barcelona Open.Hockey: The New York Rangers fired coach Peter Laviolette after the team failed to make the playoffs.Thierno Agne left behind studying law in Senegal to become a strawberry farmer. Now, he grows 50 tons of berries a year and is turning what was recently a luxury treat for the Senegalese into an everyday fruit. He’s also changing perceptions of farming as something the poor do.Lives lived: Abdullah Ahmad Badawi, Malaysia’s fifth prime minister who extended the country’s political freedoms, died at 85.Self-deprecating wit: The stand-up comedian Nate Bargatze traffics in relatable stories about family life, modern living and being a bit of a dim bulb.A personal film: David Cronenberg returns with “The Shrouds,” a film about a high-tech cemetery made while he mourned the death of his wife.Nonrecognition: Researchers are starting to look into how family members respond when a loved one with dementia no longer appears to know them.Big pants: Ralph Lauren’s fall fashion show offered a parade of pants.What would a rose look like on a distant planet with supersonic winds? It would need curling petals for protection, with a spiral interior to direct the gusts and flush out pollen. One artist set out to bring the possibilities to life.Vincent Fournier, a French artist and photographer, created Flora Incognita, a project that posits what plants might look like in alien conditions. In consultation with scientists, Fournier created images of insulated ferns, shimmering cactuses and bristled orchids. Take a look.Bake: This five-star carrot cake recipe is a Times Cooking classic.Watch: In “The President’s Wife,” Catherine Deneuve plays the former French first lady Bernadette Chirac.Read: Our critics and editors recommend these eight new books.Exercise: All you need for this barre workout is a chair and a mat.Compete: Take this week’s news quiz.Play: Spelling Bee, the Mini Crossword, Wordle and Sudoku. Find all our games here.That’s it for today. See you tomorrow. — EmmettWe welcome your feedback. Send us your suggestions at briefing@nytimes.com.'}]"
      ]
     },
     "execution_count": 12,
     "metadata": {},
     "output_type": "execute_result"
    }
   ],
   "source": [
    "rows"
   ]
  },
  {
   "cell_type": "code",
   "execution_count": 14,
   "id": "eab953e8",
   "metadata": {},
   "outputs": [],
   "source": [
    "text_input=rows[0]['context']"
   ]
  },
  {
   "cell_type": "code",
   "execution_count": 16,
   "id": "97e5af78",
   "metadata": {},
   "outputs": [
    {
     "name": "stdout",
     "output_type": "stream",
     "text": [
      "Ukraine and Russia have accused each other of violating a 30-hour Easter truce declared by President Vladimir Putin. While Zelensky stated that Russian troops fired artillery and used drones, Russia claimed its forces observed the truce and blamed Ukraine for drone and nighttime attacks. A Ukrainian drone unit commander said the fighting during the cease-fire was similar to that of the full-scale invasion, indicating there was no actual cease-fire.\n",
      "\n",
      "In other international news, a Times report exposed a massacre targeting Alawites in the Syrian city of Baniyas, highlighting the new government's limited control over armed groups. A draft executive order proposes a drastic restructuring of the State Department, including the elimination of almost all of its Africa operations and the shutdown of embassies and consulates across the continent.\n",
      "\n",
      "In domestic news, the Supreme Court blocked the Trump administration from deporting a group of Venezuelans, and thousands protested against Trump's policies across the U.S. Several former members of Trump’s first administration signed an open letter likening his actions to those of a “royal despot.\"\n",
      "\n"
     ]
    }
   ],
   "source": [
    "client = genai.Client(api_key=gemini_key)\n",
    "\n",
    "response = client.models.generate_content(\n",
    "  model=\"gemini-2.0-flash\", \n",
    "  config=types.GenerateContentConfig(\n",
    "    system_instruction=(\n",
    "      \"You are an expert summarizer. Your task is to summarize long texts into a clear, informative summary \"\n",
    "      \"written in well-structured paragraphs. The summary should be less than 300 words. \"\n",
    "      \"Do not use bullet points or numbered lists. \"\n",
    "      \"Focus on capturing the key points, main arguments, and important details. \"\n",
    "      \"Avoid unnecessary repetition and do not include personal opinions.\"\n",
    "    )\n",
    "  ),\n",
    "  contents=text_input\n",
    ")\n",
    "print(response.text)"
   ]
  },
  {
   "cell_type": "code",
   "execution_count": 11,
   "id": "f44ec8a4",
   "metadata": {},
   "outputs": [
    {
     "data": {
      "text/plain": [
       "\"The Trump administration has introduced new, albeit softened, regulations aimed at curbing China's dominance in commercial shipping and revitalizing the U.S. shipbuilding industry. These rules will impose fees on Chinese shipping companies and owners of Chinese-built ships docking at U.S. ports, with the aim of counteracting China's unfair trade practices, such as subsidies, in the shipbuilding sector. The rules include a provision for refunds on fees for shipping lines that purchase American-made ships in the coming years.\\n\\nThe move stems from a petition initiated during the Biden administration by unions concerned about China's impact on U.S. commerce in shipbuilding. While both Democrats and Republicans share concerns about relying too heavily on Chinese shipping, some critics worry that penalizing Chinese shipping could disrupt supply chains and increase costs for American consumers.\\n\\nThe revised rules are more lenient than initially proposed, exempting smaller vessels and voyages under 2,000 nautical miles, and calculating fees based on weight or container number, rather than a flat rate. However, skeptics within the maritime industry doubt the rules will significantly boost U.S. shipbuilding due to capacity limitations and higher costs compared to foreign shipyards. Experts suggest that the new regulations may prompt shipping lines to adjust their operations to minimize costs by re-deploying ships.\\n\\nThe rules also target the U.S. liquefied natural gas (LNG) export market, requiring 1% of LNG exports to be carried on American-built vessels by 2029. Critics argue that this goal is unrealistic due to the lack of U.S. shipyard capacity and expertise in building LNG carriers.\""
      ]
     },
     "execution_count": 11,
     "metadata": {},
     "output_type": "execute_result"
    }
   ],
   "source": [
    "response.text"
   ]
  },
  {
   "cell_type": "code",
   "execution_count": 13,
   "id": "58abcac8",
   "metadata": {},
   "outputs": [],
   "source": [
    "cursor = db_conn.cursor()\n",
    "cursor.execute(update_sql,(response.text,test_URL))\n",
    "db_conn.commit()\n"
   ]
  }
 ],
 "metadata": {
  "kernelspec": {
   "display_name": "Gemini",
   "language": "python",
   "name": "python3"
  },
  "language_info": {
   "codemirror_mode": {
    "name": "ipython",
    "version": 3
   },
   "file_extension": ".py",
   "mimetype": "text/x-python",
   "name": "python",
   "nbconvert_exporter": "python",
   "pygments_lexer": "ipython3",
   "version": "3.10.16"
  }
 },
 "nbformat": 4,
 "nbformat_minor": 5
}
