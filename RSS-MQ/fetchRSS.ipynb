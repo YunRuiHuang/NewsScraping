{
 "cells": [
  {
   "cell_type": "code",
   "execution_count": null,
   "metadata": {},
   "outputs": [],
   "source": [
    "import feedparser"
   ]
  },
  {
   "cell_type": "code",
   "execution_count": null,
   "metadata": {},
   "outputs": [],
   "source": [
    "rss_url = 'https://rss.nytimes.com/services/xml/rss/nyt/AsiaPacific.xml'"
   ]
  },
  {
   "cell_type": "code",
   "execution_count": null,
   "metadata": {},
   "outputs": [],
   "source": [
    "feed = feedparser.parse(rss_url)"
   ]
  },
  {
   "cell_type": "code",
   "execution_count": null,
   "metadata": {},
   "outputs": [],
   "source": [
    "print(f\"Feed Title: {feed.feed.title}\")\n",
    "print(f\"Feed Description: {feed.feed.description}\")"
   ]
  },
  {
   "cell_type": "code",
   "execution_count": null,
   "metadata": {},
   "outputs": [],
   "source": [
    "for entry in feed.entries[:5]:\n",
    "    print(\"Title:\", entry.title)\n",
    "    print(\"Link:\", entry.link)\n",
    "    print(\"Published:\", entry.published)\n",
    "    print(\"Summary:\", entry.summary)\n",
    "    print(\"-\" * 80)"
   ]
  },
  {
   "cell_type": "code",
   "execution_count": null,
   "metadata": {},
   "outputs": [],
   "source": [
    "output = {\n",
    "    'id':feed.entries[0].id,\n",
    "    'title':feed.entries[0].title,\n",
    "    'url':feed.entries[0].link,\n",
    "    'author':feed.entries[0].author,\n",
    "    'date':feed.entries[0].published\n",
    "}"
   ]
  },
  {
   "cell_type": "code",
   "execution_count": null,
   "metadata": {},
   "outputs": [],
   "source": [
    "output"
   ]
  },
  {
   "cell_type": "code",
   "execution_count": null,
   "metadata": {},
   "outputs": [],
   "source": [
    "feed.entries[0]"
   ]
  }
 ],
 "metadata": {
  "kernelspec": {
   "display_name": "webScraping",
   "language": "python",
   "name": "python3"
  },
  "language_info": {
   "codemirror_mode": {
    "name": "ipython",
    "version": 3
   },
   "file_extension": ".py",
   "mimetype": "text/x-python",
   "name": "python",
   "nbconvert_exporter": "python",
   "pygments_lexer": "ipython3",
   "version": "3.10.16"
  }
 },
 "nbformat": 4,
 "nbformat_minor": 2
}
