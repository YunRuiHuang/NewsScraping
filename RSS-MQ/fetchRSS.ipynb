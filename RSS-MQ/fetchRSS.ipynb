{
 "cells": [
  {
   "cell_type": "code",
   "execution_count": 1,
   "metadata": {},
   "outputs": [],
   "source": [
    "import feedparser"
   ]
  },
  {
   "cell_type": "code",
   "execution_count": 2,
   "metadata": {},
   "outputs": [],
   "source": [
    "rss_url = 'https://rss.nytimes.com/services/xml/rss/nyt/AsiaPacific.xml'"
   ]
  },
  {
   "cell_type": "code",
   "execution_count": 3,
   "metadata": {},
   "outputs": [],
   "source": [
    "feed = feedparser.parse(rss_url)"
   ]
  },
  {
   "cell_type": "code",
   "execution_count": 4,
   "metadata": {},
   "outputs": [
    {
     "name": "stdout",
     "output_type": "stream",
     "text": [
      "Feed Title: NYT > World > Asia Pacific\n",
      "Feed Description: \n"
     ]
    }
   ],
   "source": [
    "print(f\"Feed Title: {feed.feed.title}\")\n",
    "print(f\"Feed Description: {feed.feed.description}\")"
   ]
  },
  {
   "cell_type": "code",
   "execution_count": 5,
   "metadata": {},
   "outputs": [
    {
     "name": "stdout",
     "output_type": "stream",
     "text": [
      "Title: A Montana Senator Seeks to Be Trump’s Voice in Beijing\n",
      "Link: https://www.nytimes.com/2025/03/22/world/asia/trump-china-xi-daines.html\n",
      "Published: Sat, 22 Mar 2025 13:01:58 +0000\n",
      "Summary: Senator Steve Daines said in an interview that in meetings with Chinese officials, he called for talks between President Trump and China’s leader, Xi Jinping.\n",
      "--------------------------------------------------------------------------------\n",
      "Title: In Taipei, a Mother and Daughter Reflect on the Art Scene\n",
      "Link: https://www.nytimes.com/2025/03/22/arts/design/taipei-tina-keng-shelly-wu.html\n",
      "Published: Sat, 22 Mar 2025 09:00:38 +0000\n",
      "Summary: Over the years, the Taiwanese art world has blossomed, thanks partly to the gallerists Tina Keng and Shelly Wu, who have championed Chinese and Taiwanese artists.\n",
      "--------------------------------------------------------------------------------\n",
      "Title: Pakistan Is Trying to Integrate the ‘Most Dangerous Place’ on Earth. It’s Failing.\n",
      "Link: https://www.nytimes.com/2025/03/22/world/asia/pakistan-tribal-terrorism.html\n",
      "Published: Sat, 22 Mar 2025 09:00:10 +0000\n",
      "Summary: The country’s former tribal areas bordering Afghanistan are plagued by escalating militancy, leading to widespread disillusionment.\n",
      "--------------------------------------------------------------------------------\n",
      "Title: South Korea Protests Swell as Court Weighs President Yoon’s Fate\n",
      "Link: https://www.nytimes.com/2025/03/22/world/asia/south-korea-yoon-protests.html\n",
      "Published: Sat, 22 Mar 2025 12:47:56 +0000\n",
      "Summary: Mass rallies for and against Yoon Suk Yeol filled the streets on Saturday as the Constitutional Court prepared to rule on whether his ill-fated imposition of martial law justified removal.\n",
      "--------------------------------------------------------------------------------\n",
      "Title: South Korean Court Blocks K-pop Band NewJeans From Going It Alone\n",
      "Link: https://www.nytimes.com/2025/03/21/world/asia/korea-newjeans-ruling.html\n",
      "Published: Fri, 21 Mar 2025 12:30:50 +0000\n",
      "Summary: The court sided with the girl group’s record label, Ador, barring the quintet from planning commercial pursuits after trying to cut ties. The band vowed to appeal.\n",
      "--------------------------------------------------------------------------------\n"
     ]
    }
   ],
   "source": [
    "for entry in feed.entries[:5]:\n",
    "    print(\"Title:\", entry.title)\n",
    "    print(\"Link:\", entry.link)\n",
    "    print(\"Published:\", entry.published)\n",
    "    print(\"Summary:\", entry.summary)\n",
    "    print(\"-\" * 80)"
   ]
  },
  {
   "cell_type": "code",
   "execution_count": 9,
   "metadata": {},
   "outputs": [],
   "source": [
    "output = {\n",
    "    'id':feed.entries[0].id,\n",
    "    'title':feed.entries[0].title,\n",
    "    'url':feed.entries[0].link,\n",
    "    'author':feed.entries[0].author,\n",
    "    'date':feed.entries[0].published\n",
    "}"
   ]
  },
  {
   "cell_type": "code",
   "execution_count": 10,
   "metadata": {},
   "outputs": [
    {
     "data": {
      "text/plain": [
       "{'id': 'https://www.nytimes.com/2025/03/22/world/asia/trump-china-xi-daines.html',\n",
       " 'title': 'A Montana Senator Seeks to Be Trump’s Voice in Beijing',\n",
       " 'url': 'https://www.nytimes.com/2025/03/22/world/asia/trump-china-xi-daines.html',\n",
       " 'author': 'Keith Bradsher and Meaghan Tobin',\n",
       " 'date': 'Sat, 22 Mar 2025 13:01:58 +0000'}"
      ]
     },
     "execution_count": 10,
     "metadata": {},
     "output_type": "execute_result"
    }
   ],
   "source": [
    "output"
   ]
  },
  {
   "cell_type": "code",
   "execution_count": 8,
   "metadata": {},
   "outputs": [
    {
     "data": {
      "text/plain": [
       "{'title': 'A Montana Senator Seeks to Be Trump’s Voice in Beijing',\n",
       " 'title_detail': {'type': 'text/plain',\n",
       "  'language': None,\n",
       "  'base': 'https://rss.nytimes.com/services/xml/rss/nyt/AsiaPacific.xml',\n",
       "  'value': 'A Montana Senator Seeks to Be Trump’s Voice in Beijing'},\n",
       " 'links': [{'rel': 'alternate',\n",
       "   'type': 'text/html',\n",
       "   'href': 'https://www.nytimes.com/2025/03/22/world/asia/trump-china-xi-daines.html'},\n",
       "  {'href': 'https://www.nytimes.com/2025/03/22/world/asia/trump-china-xi-daines.html',\n",
       "   'rel': 'standout',\n",
       "   'type': 'text/html'}],\n",
       " 'link': 'https://www.nytimes.com/2025/03/22/world/asia/trump-china-xi-daines.html',\n",
       " 'id': 'https://www.nytimes.com/2025/03/22/world/asia/trump-china-xi-daines.html',\n",
       " 'guidislink': False,\n",
       " 'summary': 'Senator Steve Daines said in an interview that in meetings with Chinese officials, he called for talks between President Trump and China’s leader, Xi Jinping.',\n",
       " 'summary_detail': {'type': 'text/html',\n",
       "  'language': None,\n",
       "  'base': 'https://rss.nytimes.com/services/xml/rss/nyt/AsiaPacific.xml',\n",
       "  'value': 'Senator Steve Daines said in an interview that in meetings with Chinese officials, he called for talks between President Trump and China’s leader, Xi Jinping.'},\n",
       " 'authors': [{'name': 'Keith Bradsher and Meaghan Tobin'}],\n",
       " 'author': 'Keith Bradsher and Meaghan Tobin',\n",
       " 'author_detail': {'name': 'Keith Bradsher and Meaghan Tobin'},\n",
       " 'published': 'Sat, 22 Mar 2025 13:01:58 +0000',\n",
       " 'published_parsed': time.struct_time(tm_year=2025, tm_mon=3, tm_mday=22, tm_hour=13, tm_min=1, tm_sec=58, tm_wday=5, tm_yday=81, tm_isdst=0),\n",
       " 'tags': [{'term': 'United States Politics and Government',\n",
       "   'scheme': 'http://www.nytimes.com/namespaces/keywords/des',\n",
       "   'label': None},\n",
       "  {'term': 'United States International Relations',\n",
       "   'scheme': 'http://www.nytimes.com/namespaces/keywords/des',\n",
       "   'label': None},\n",
       "  {'term': 'International Relations',\n",
       "   'scheme': 'http://www.nytimes.com/namespaces/keywords/des',\n",
       "   'label': None},\n",
       "  {'term': 'Fentanyl',\n",
       "   'scheme': 'http://www.nytimes.com/namespaces/keywords/des',\n",
       "   'label': None},\n",
       "  {'term': 'Customs (Tariff)',\n",
       "   'scheme': 'http://www.nytimes.com/namespaces/keywords/des',\n",
       "   'label': None},\n",
       "  {'term': 'China',\n",
       "   'scheme': 'http://www.nytimes.com/namespaces/keywords/nyt_geo',\n",
       "   'label': None},\n",
       "  {'term': 'Montana',\n",
       "   'scheme': 'http://www.nytimes.com/namespaces/keywords/nyt_geo',\n",
       "   'label': None},\n",
       "  {'term': 'United States',\n",
       "   'scheme': 'http://www.nytimes.com/namespaces/keywords/nyt_geo',\n",
       "   'label': None}],\n",
       " 'media_content': [{'height': '1800',\n",
       "   'medium': 'image',\n",
       "   'url': 'https://static01.nyt.com/images/2025/03/22/multimedia/22int-china-daines-lbjf/22int-china-daines-lbjf-mediumSquareAt3X.jpg',\n",
       "   'width': '1800'}],\n",
       " 'media_credit': [{'content': 'Pool photo by Ng Han Guan'}],\n",
       " 'credit': 'Pool photo by Ng Han Guan',\n",
       " 'content': [{'type': 'text/plain',\n",
       "   'language': None,\n",
       "   'base': 'https://rss.nytimes.com/services/xml/rss/nyt/AsiaPacific.xml',\n",
       "   'value': 'Senator Steve Daines and Vice Premier He Lifeng of China, in Beijing on Saturday. Mr. Daines hopes to serve as an intermediary between the Trump administration and Beijing.'}]}"
      ]
     },
     "execution_count": 8,
     "metadata": {},
     "output_type": "execute_result"
    }
   ],
   "source": [
    "feed.entries[0]"
   ]
  }
 ],
 "metadata": {
  "kernelspec": {
   "display_name": "webScraping",
   "language": "python",
   "name": "python3"
  },
  "language_info": {
   "codemirror_mode": {
    "name": "ipython",
    "version": 3
   },
   "file_extension": ".py",
   "mimetype": "text/x-python",
   "name": "python",
   "nbconvert_exporter": "python",
   "pygments_lexer": "ipython3",
   "version": "3.10.16"
  }
 },
 "nbformat": 4,
 "nbformat_minor": 2
}
