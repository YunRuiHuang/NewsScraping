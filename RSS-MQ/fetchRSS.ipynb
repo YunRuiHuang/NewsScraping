{
 "cells": [
  {
   "cell_type": "code",
   "execution_count": 82,
   "metadata": {},
   "outputs": [],
   "source": [
    "import feedparser\n",
    "import time"
   ]
  },
  {
   "cell_type": "code",
   "execution_count": 67,
   "metadata": {},
   "outputs": [],
   "source": [
    "from selenium import webdriver\n",
    "from selenium.webdriver.chrome.service import Service\n",
    "from selenium.webdriver.common.by import By\n",
    "from selenium.webdriver.chrome.options import Options\n",
    "import re\n",
    "\n",
    "driver_path = 'C:\\\\chromedriver-win64\\\\chromedriver.exe'\n",
    "extension_path = 'C:\\\\chromedriver-win64\\\\bypass-paywalls-chrome-clean-master.crx'\n",
    "\n",
    "service = Service(executable_path=driver_path)\n",
    "option = Options()\n",
    "option.add_argument('user-agent=Mozilla/5.0 (Windows NT 10.0; Win64; x64) AppleWebKit/537.36 (KHTML, like Gecko) Chrome/123.0.0.0 Safari/537.36')\n",
    "option.add_argument(\"--disable-blink-features=AutomationControlled\")\n",
    "option.add_experimental_option('excludeSwitches', ['enable-automation'])\n",
    "option.add_experimental_option('useAutomationExtension', False)\n",
    "option.add_extension(extension=extension_path)\n",
    "web = webdriver.Chrome(service=service,options=option)"
   ]
  },
  {
   "cell_type": "code",
   "execution_count": 83,
   "metadata": {},
   "outputs": [],
   "source": [
    "def webGet(url, title, class_list, label):\n",
    "    web.get(url=url)\n",
    "    time.sleep(3)\n",
    "    if(label == 'class'):\n",
    "        css_selector = \".\" + \", .\".join(class_list)\n",
    "    elif(label == 'p'):\n",
    "        css_selector = \"p\"\n",
    "    textdata = web.find_elements(By.CSS_SELECTOR, css_selector)\n",
    "    artifact = ''\n",
    "    for data in textdata:\n",
    "        artifact = artifact + data.text + '\\n'\n",
    "    safe_filename = re.sub(r'[<>:\"/\\\\|?*]', '_', title) + \".txt\"\n",
    "    with open(safe_filename,\"w\") as file:\n",
    "        file.write(artifact)"
   ]
  },
  {
   "cell_type": "code",
   "execution_count": 62,
   "metadata": {},
   "outputs": [],
   "source": [
    "web.get(url='https://pixelscan.net/')"
   ]
  },
  {
   "cell_type": "code",
   "execution_count": 57,
   "metadata": {},
   "outputs": [],
   "source": [
    "from selenium.webdriver.support.ui import WebDriverWait\n",
    "from selenium.webdriver.support import expected_conditions as EC"
   ]
  },
  {
   "cell_type": "code",
   "execution_count": 63,
   "metadata": {},
   "outputs": [],
   "source": [
    "button = WebDriverWait(web, 10).until(\n",
    "    EC.element_to_be_clickable((By.XPATH, \"//a[contains(text(), 'START')]\"))\n",
    ")\n",
    "\n",
    "# 点击按钮\n",
    "button.click()"
   ]
  },
  {
   "cell_type": "code",
   "execution_count": 88,
   "metadata": {},
   "outputs": [],
   "source": [
    "def rssGet(url, topN=5, i=0):\n",
    "  feed = feedparser.parse(url)\n",
    "  print(f\"Feed Title: {feed.feed.title}\")\n",
    "  print(f\"Feed Description: {getattr(feed.feed, 'description', 'unknown')}\")\n",
    "  for entry in feed.entries[:topN]:\n",
    "    print(\"Title:\", entry.title)\n",
    "    print(\"Link:\", entry.link)\n",
    "    print(\"Published:\", entry.published)\n",
    "    print(\"-\" * 80)\n",
    "  output = {\n",
    "    'title':getattr(feed.entries[i], 'title', 'unknown'),\n",
    "    'url':feed.entries[i].link,\n",
    "    'author':getattr(feed.entries[i], 'author', 'unknown'),\n",
    "    'date':feed.entries[i].published\n",
    "  }\n",
    "  return output"
   ]
  },
  {
   "cell_type": "code",
   "execution_count": 91,
   "metadata": {},
   "outputs": [
    {
     "name": "stdout",
     "output_type": "stream",
     "text": [
      "Feed Title: World - South China Morning Post\n",
      "Feed Description: Breaking news, analysis and opinion from the SCMP's international edition.\n",
      "Title: Carney’s Liberals win Canada election dominated by Trump\n",
      "Link: https://www.scmp.com/news/us/diplomacy/article/3308287/carneys-liberals-win-canada-election-according-cbc-projection?utm_source=rss_feed\n",
      "Published: Tue, 29 Apr 2025 10:31:44 +0800\n",
      "--------------------------------------------------------------------------------\n",
      "Title: How China is turning Trump’s tariffs into an opportunity\n",
      "Link: https://www.scmp.com/opinion/china-opinion/article/3308096/how-china-turning-trumps-tariffs-opportunity?utm_source=rss_feed\n",
      "Published: Tue, 29 Apr 2025 09:30:08 +0800\n",
      "--------------------------------------------------------------------------------\n",
      "Title: Amnesty accuses Israel of ‘live-streamed genocide’ against Gaza Palestinians\n",
      "Link: https://www.scmp.com/news/world/europe/article/3308279/amnesty-accuses-israel-live-streamed-genocide-against-gaza-palestinians?utm_source=rss_feed\n",
      "Published: Tue, 29 Apr 2025 07:42:58 +0800\n",
      "--------------------------------------------------------------------------------\n"
     ]
    }
   ],
   "source": [
    "news = rssGet('https://www.scmp.com/rss/5/feed',3,0)"
   ]
  },
  {
   "cell_type": "code",
   "execution_count": 92,
   "metadata": {},
   "outputs": [],
   "source": [
    "webGet(news['url'],news['title'],['paragraph-base'],'p')"
   ]
  }
 ],
 "metadata": {
  "kernelspec": {
   "display_name": "news",
   "language": "python",
   "name": "python3"
  },
  "language_info": {
   "codemirror_mode": {
    "name": "ipython",
    "version": 3
   },
   "file_extension": ".py",
   "mimetype": "text/x-python",
   "name": "python",
   "nbconvert_exporter": "python",
   "pygments_lexer": "ipython3",
   "version": "3.10.16"
  }
 },
 "nbformat": 4,
 "nbformat_minor": 2
}
