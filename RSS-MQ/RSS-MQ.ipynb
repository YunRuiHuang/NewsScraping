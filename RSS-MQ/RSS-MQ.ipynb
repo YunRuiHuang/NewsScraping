{
 "cells": [
  {
   "cell_type": "code",
   "execution_count": 25,
   "metadata": {},
   "outputs": [],
   "source": [
    "import feedparser;\n",
    "import pika;\n",
    "import json;\n",
    "import time;"
   ]
  },
  {
   "cell_type": "code",
   "execution_count": 18,
   "metadata": {},
   "outputs": [],
   "source": [
    "rss_url = 'https://rss.nytimes.com/services/xml/rss/nyt/AsiaPacific.xml'\n",
    "feed = feedparser.parse(rss_url)"
   ]
  },
  {
   "cell_type": "code",
   "execution_count": 19,
   "metadata": {},
   "outputs": [],
   "source": [
    "output = {\n",
    "    'id':feed.entries[0].id,\n",
    "    'title':feed.entries[0].title,\n",
    "    'url':feed.entries[0].link,\n",
    "    'author':feed.entries[0].author,\n",
    "    'date':feed.entries[0].published\n",
    "}"
   ]
  },
  {
   "cell_type": "code",
   "execution_count": 42,
   "metadata": {},
   "outputs": [],
   "source": [
    "connection = pika.BlockingConnection(pika.ConnectionParameters('192.168.0.202'))\n",
    "channel = connection.channel()"
   ]
  },
  {
   "cell_type": "code",
   "execution_count": 21,
   "metadata": {},
   "outputs": [
    {
     "data": {
      "text/plain": [
       "'{\"id\": \"https://www.nytimes.com/2025/03/27/briefing/trump-car-tariffs-russia-ukraine-eu-hamas-protests.html\", \"title\": \"Friday Briefing: Trump\\\\u2019s New Tariffs Risk Trade War\", \"url\": \"https://www.nytimes.com/2025/03/27/briefing/trump-car-tariffs-russia-ukraine-eu-hamas-protests.html\", \"author\": \"Emmett Lindner\", \"date\": \"Thu, 27 Mar 2025 21:03:21 +0000\"}'"
      ]
     },
     "execution_count": 21,
     "metadata": {},
     "output_type": "execute_result"
    }
   ],
   "source": [
    "json.dumps(output)"
   ]
  },
  {
   "cell_type": "code",
   "execution_count": 22,
   "metadata": {},
   "outputs": [],
   "source": [
    "channel.basic_publish(exchange='news.rss', routing_key='nytime', body=json.dumps(output))\n"
   ]
  },
  {
   "cell_type": "code",
   "execution_count": 44,
   "metadata": {},
   "outputs": [],
   "source": [
    "for entrie in feed.entries:\n",
    "    output = {\n",
    "        'id':entrie.id,\n",
    "        'title':entrie.title,\n",
    "        'url':entrie.link,\n",
    "        'author':entrie.author,\n",
    "        'date':entrie.published\n",
    "    }\n",
    "    channel.basic_publish(exchange='news.rss', routing_key='nytime', body=json.dumps(output))\n"
   ]
  }
 ],
 "metadata": {
  "kernelspec": {
   "display_name": "webScraping",
   "language": "python",
   "name": "python3"
  },
  "language_info": {
   "codemirror_mode": {
    "name": "ipython",
    "version": 3
   },
   "file_extension": ".py",
   "mimetype": "text/x-python",
   "name": "python",
   "nbconvert_exporter": "python",
   "pygments_lexer": "ipython3",
   "version": "3.10.16"
  }
 },
 "nbformat": 4,
 "nbformat_minor": 2
}
