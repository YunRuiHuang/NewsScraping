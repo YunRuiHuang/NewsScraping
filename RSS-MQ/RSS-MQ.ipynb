{
 "cells": [
  {
   "cell_type": "code",
   "execution_count": 6,
   "metadata": {},
   "outputs": [],
   "source": [
    "import feedparser;\n",
    "import pika;\n",
    "import json;"
   ]
  },
  {
   "cell_type": "code",
   "execution_count": 2,
   "metadata": {},
   "outputs": [],
   "source": [
    "rss_url = 'https://rss.nytimes.com/services/xml/rss/nyt/AsiaPacific.xml'\n",
    "feed = feedparser.parse(rss_url)"
   ]
  },
  {
   "cell_type": "code",
   "execution_count": 3,
   "metadata": {},
   "outputs": [],
   "source": [
    "output = {\n",
    "    'id':feed.entries[0].id,\n",
    "    'title':feed.entries[0].title,\n",
    "    'url':feed.entries[0].link,\n",
    "    'author':feed.entries[0].author,\n",
    "    'date':feed.entries[0].published\n",
    "}"
   ]
  },
  {
   "cell_type": "code",
   "execution_count": 11,
   "metadata": {},
   "outputs": [],
   "source": [
    "connection = pika.BlockingConnection(pika.ConnectionParameters('192.168.0.202'))\n",
    "channel = connection.channel()"
   ]
  },
  {
   "cell_type": "code",
   "execution_count": 7,
   "metadata": {},
   "outputs": [
    {
     "data": {
      "text/plain": [
       "'{\"id\": \"https://www.nytimes.com/2025/03/22/world/asia/trump-china-xi-daines.html\", \"title\": \"A Montana Senator Seeks to Be Trump\\\\u2019s Voice in Beijing\", \"url\": \"https://www.nytimes.com/2025/03/22/world/asia/trump-china-xi-daines.html\", \"author\": \"Keith Bradsher and Meaghan Tobin\", \"date\": \"Sat, 22 Mar 2025 13:01:58 +0000\"}'"
      ]
     },
     "execution_count": 7,
     "metadata": {},
     "output_type": "execute_result"
    }
   ],
   "source": [
    "json.dumps(output)"
   ]
  },
  {
   "cell_type": "code",
   "execution_count": 8,
   "metadata": {},
   "outputs": [],
   "source": [
    "channel.basic_publish(exchange='news.rss', routing_key='nytime', body=json.dumps(output))\n"
   ]
  },
  {
   "cell_type": "code",
   "execution_count": 15,
   "metadata": {},
   "outputs": [
    {
     "data": {
      "text/plain": [
       "'ctag1.c95ee5bf685e43e3ba7c6d1b921ba759'"
      ]
     },
     "execution_count": 15,
     "metadata": {},
     "output_type": "execute_result"
    }
   ],
   "source": [
    "channel.basic_consume(queue='nytime',\n",
    "                      auto_ack=True,\n",
    "                      on_message_callback=lambda ch, method, properties, body:\n",
    "                          print(f\" [x] Received {json.loads(body)}\")\n",
    "                      )"
   ]
  },
  {
   "cell_type": "code",
   "execution_count": 16,
   "metadata": {},
   "outputs": [
    {
     "name": "stdout",
     "output_type": "stream",
     "text": [
      " [x] Received b'Hello World!'\n",
      " [x] Received b'{\"id\": \"https://www.nytimes.com/2025/03/22/world/asia/trump-china-xi-daines.html\", \"title\": \"A Montana Senator Seeks to Be Trump\\\\u2019s Voice in Beijing\", \"url\": \"https://www.nytimes.com/2025/03/22/world/asia/trump-china-xi-daines.html\", \"author\": \"Keith Bradsher and Meaghan Tobin\", \"date\": \"Sat, 22 Mar 2025 13:01:58 +0000\"}'\n"
     ]
    },
    {
     "ename": "KeyboardInterrupt",
     "evalue": "",
     "output_type": "error",
     "traceback": [
      "\u001b[1;31m---------------------------------------------------------------------------\u001b[0m",
      "\u001b[1;31mKeyboardInterrupt\u001b[0m                         Traceback (most recent call last)",
      "Cell \u001b[1;32mIn[16], line 1\u001b[0m\n\u001b[1;32m----> 1\u001b[0m \u001b[43mchannel\u001b[49m\u001b[38;5;241;43m.\u001b[39;49m\u001b[43mstart_consuming\u001b[49m\u001b[43m(\u001b[49m\u001b[43m)\u001b[49m\n",
      "File \u001b[1;32mc:\\Users\\16507\\anaconda3\\envs\\webScraping\\lib\\site-packages\\pika\\adapters\\blocking_connection.py:1883\u001b[0m, in \u001b[0;36mBlockingChannel.start_consuming\u001b[1;34m(self)\u001b[0m\n\u001b[0;32m   1880\u001b[0m \u001b[38;5;66;03m# Process events as long as consumers exist on this channel\u001b[39;00m\n\u001b[0;32m   1881\u001b[0m \u001b[38;5;28;01mwhile\u001b[39;00m \u001b[38;5;28mself\u001b[39m\u001b[38;5;241m.\u001b[39m_consumer_infos:\n\u001b[0;32m   1882\u001b[0m     \u001b[38;5;66;03m# This will raise ChannelClosed if channel is closed by broker\u001b[39;00m\n\u001b[1;32m-> 1883\u001b[0m     \u001b[38;5;28;43mself\u001b[39;49m\u001b[38;5;241;43m.\u001b[39;49m\u001b[43m_process_data_events\u001b[49m\u001b[43m(\u001b[49m\u001b[43mtime_limit\u001b[49m\u001b[38;5;241;43m=\u001b[39;49m\u001b[38;5;28;43;01mNone\u001b[39;49;00m\u001b[43m)\u001b[49m\n",
      "File \u001b[1;32mc:\\Users\\16507\\anaconda3\\envs\\webScraping\\lib\\site-packages\\pika\\adapters\\blocking_connection.py:2044\u001b[0m, in \u001b[0;36mBlockingChannel._process_data_events\u001b[1;34m(self, time_limit)\u001b[0m\n\u001b[0;32m   2025\u001b[0m \u001b[38;5;28;01mdef\u001b[39;00m\u001b[38;5;250m \u001b[39m\u001b[38;5;21m_process_data_events\u001b[39m(\u001b[38;5;28mself\u001b[39m, time_limit):\n\u001b[0;32m   2026\u001b[0m \u001b[38;5;250m    \u001b[39m\u001b[38;5;124;03m\"\"\"Wrapper for `BlockingConnection.process_data_events()` with common\u001b[39;00m\n\u001b[0;32m   2027\u001b[0m \u001b[38;5;124;03m    channel-specific logic that raises ChannelClosed if broker closed this\u001b[39;00m\n\u001b[0;32m   2028\u001b[0m \u001b[38;5;124;03m    channel.\u001b[39;00m\n\u001b[1;32m   (...)\u001b[0m\n\u001b[0;32m   2042\u001b[0m \n\u001b[0;32m   2043\u001b[0m \u001b[38;5;124;03m    \"\"\"\u001b[39;00m\n\u001b[1;32m-> 2044\u001b[0m     \u001b[38;5;28;43mself\u001b[39;49m\u001b[38;5;241;43m.\u001b[39;49m\u001b[43mconnection\u001b[49m\u001b[38;5;241;43m.\u001b[39;49m\u001b[43mprocess_data_events\u001b[49m\u001b[43m(\u001b[49m\u001b[43mtime_limit\u001b[49m\u001b[38;5;241;43m=\u001b[39;49m\u001b[43mtime_limit\u001b[49m\u001b[43m)\u001b[49m\n\u001b[0;32m   2045\u001b[0m     \u001b[38;5;28;01mif\u001b[39;00m \u001b[38;5;28mself\u001b[39m\u001b[38;5;241m.\u001b[39mis_closed \u001b[38;5;129;01mand\u001b[39;00m \u001b[38;5;28misinstance\u001b[39m(\u001b[38;5;28mself\u001b[39m\u001b[38;5;241m.\u001b[39m_closing_reason,\n\u001b[0;32m   2046\u001b[0m                                      exceptions\u001b[38;5;241m.\u001b[39mChannelClosedByBroker):\n\u001b[0;32m   2047\u001b[0m         LOGGER\u001b[38;5;241m.\u001b[39mdebug(\u001b[38;5;124m'\u001b[39m\u001b[38;5;124mChannel close by broker detected, raising \u001b[39m\u001b[38;5;132;01m%r\u001b[39;00m\u001b[38;5;124m; \u001b[39m\u001b[38;5;132;01m%r\u001b[39;00m\u001b[38;5;124m'\u001b[39m,\n\u001b[0;32m   2048\u001b[0m                      \u001b[38;5;28mself\u001b[39m\u001b[38;5;241m.\u001b[39m_closing_reason, \u001b[38;5;28mself\u001b[39m)\n",
      "File \u001b[1;32mc:\\Users\\16507\\anaconda3\\envs\\webScraping\\lib\\site-packages\\pika\\adapters\\blocking_connection.py:842\u001b[0m, in \u001b[0;36mBlockingConnection.process_data_events\u001b[1;34m(self, time_limit)\u001b[0m\n\u001b[0;32m    838\u001b[0m common_terminator \u001b[38;5;241m=\u001b[39m \u001b[38;5;28;01mlambda\u001b[39;00m: \u001b[38;5;28mbool\u001b[39m(dispatch_acquired \u001b[38;5;129;01mand\u001b[39;00m\n\u001b[0;32m    839\u001b[0m                                  (\u001b[38;5;28mself\u001b[39m\u001b[38;5;241m.\u001b[39m_channels_pending_dispatch \u001b[38;5;129;01mor\u001b[39;00m\n\u001b[0;32m    840\u001b[0m                                   \u001b[38;5;28mself\u001b[39m\u001b[38;5;241m.\u001b[39m_ready_events))\n\u001b[0;32m    841\u001b[0m \u001b[38;5;28;01mif\u001b[39;00m time_limit \u001b[38;5;129;01mis\u001b[39;00m \u001b[38;5;28;01mNone\u001b[39;00m:\n\u001b[1;32m--> 842\u001b[0m     \u001b[38;5;28;43mself\u001b[39;49m\u001b[38;5;241;43m.\u001b[39;49m\u001b[43m_flush_output\u001b[49m\u001b[43m(\u001b[49m\u001b[43mcommon_terminator\u001b[49m\u001b[43m)\u001b[49m\n\u001b[0;32m    843\u001b[0m \u001b[38;5;28;01melse\u001b[39;00m:\n\u001b[0;32m    844\u001b[0m     \u001b[38;5;28;01mwith\u001b[39;00m _IoloopTimerContext(time_limit, \u001b[38;5;28mself\u001b[39m\u001b[38;5;241m.\u001b[39m_impl) \u001b[38;5;28;01mas\u001b[39;00m timer:\n",
      "File \u001b[1;32mc:\\Users\\16507\\anaconda3\\envs\\webScraping\\lib\\site-packages\\pika\\adapters\\blocking_connection.py:514\u001b[0m, in \u001b[0;36mBlockingConnection._flush_output\u001b[1;34m(self, *waiters)\u001b[0m\n\u001b[0;32m    512\u001b[0m \u001b[38;5;66;03m# Process I/O until our completion condition is satisfied\u001b[39;00m\n\u001b[0;32m    513\u001b[0m \u001b[38;5;28;01mwhile\u001b[39;00m \u001b[38;5;129;01mnot\u001b[39;00m is_done():\n\u001b[1;32m--> 514\u001b[0m     \u001b[38;5;28;43mself\u001b[39;49m\u001b[38;5;241;43m.\u001b[39;49m\u001b[43m_impl\u001b[49m\u001b[38;5;241;43m.\u001b[39;49m\u001b[43mioloop\u001b[49m\u001b[38;5;241;43m.\u001b[39;49m\u001b[43mpoll\u001b[49m\u001b[43m(\u001b[49m\u001b[43m)\u001b[49m\n\u001b[0;32m    515\u001b[0m     \u001b[38;5;28mself\u001b[39m\u001b[38;5;241m.\u001b[39m_impl\u001b[38;5;241m.\u001b[39mioloop\u001b[38;5;241m.\u001b[39mprocess_timeouts()\n\u001b[0;32m    517\u001b[0m \u001b[38;5;28;01mif\u001b[39;00m \u001b[38;5;28mself\u001b[39m\u001b[38;5;241m.\u001b[39m_closed_result\u001b[38;5;241m.\u001b[39mready:\n",
      "File \u001b[1;32mc:\\Users\\16507\\anaconda3\\envs\\webScraping\\lib\\site-packages\\pika\\adapters\\select_connection.py:579\u001b[0m, in \u001b[0;36mIOLoop.poll\u001b[1;34m(self)\u001b[0m\n\u001b[0;32m    572\u001b[0m \u001b[38;5;28;01mdef\u001b[39;00m\u001b[38;5;250m \u001b[39m\u001b[38;5;21mpoll\u001b[39m(\u001b[38;5;28mself\u001b[39m):\n\u001b[0;32m    573\u001b[0m \u001b[38;5;250m    \u001b[39m\u001b[38;5;124;03m\"\"\"[Extension] Wait for events of interest on registered file\u001b[39;00m\n\u001b[0;32m    574\u001b[0m \u001b[38;5;124;03m    descriptors until an event of interest occurs or next timer deadline or\u001b[39;00m\n\u001b[0;32m    575\u001b[0m \u001b[38;5;124;03m    `_PollerBase._MAX_POLL_TIMEOUT`, whichever is sooner, and dispatch the\u001b[39;00m\n\u001b[0;32m    576\u001b[0m \u001b[38;5;124;03m    corresponding event handlers.\u001b[39;00m\n\u001b[0;32m    577\u001b[0m \n\u001b[0;32m    578\u001b[0m \u001b[38;5;124;03m    \"\"\"\u001b[39;00m\n\u001b[1;32m--> 579\u001b[0m     \u001b[38;5;28;43mself\u001b[39;49m\u001b[38;5;241;43m.\u001b[39;49m\u001b[43m_poller\u001b[49m\u001b[38;5;241;43m.\u001b[39;49m\u001b[43mpoll\u001b[49m\u001b[43m(\u001b[49m\u001b[43m)\u001b[49m\n",
      "File \u001b[1;32mc:\\Users\\16507\\anaconda3\\envs\\webScraping\\lib\\site-packages\\pika\\adapters\\select_connection.py:953\u001b[0m, in \u001b[0;36mSelectPoller.poll\u001b[1;34m(self)\u001b[0m\n\u001b[0;32m    949\u001b[0m \u001b[38;5;28;01mtry\u001b[39;00m:\n\u001b[0;32m    950\u001b[0m     \u001b[38;5;28;01mif\u001b[39;00m (\u001b[38;5;28mself\u001b[39m\u001b[38;5;241m.\u001b[39m_fd_events[PollEvents\u001b[38;5;241m.\u001b[39mREAD] \u001b[38;5;129;01mor\u001b[39;00m\n\u001b[0;32m    951\u001b[0m             \u001b[38;5;28mself\u001b[39m\u001b[38;5;241m.\u001b[39m_fd_events[PollEvents\u001b[38;5;241m.\u001b[39mWRITE] \u001b[38;5;129;01mor\u001b[39;00m\n\u001b[0;32m    952\u001b[0m             \u001b[38;5;28mself\u001b[39m\u001b[38;5;241m.\u001b[39m_fd_events[PollEvents\u001b[38;5;241m.\u001b[39mERROR]):\n\u001b[1;32m--> 953\u001b[0m         read, write, error \u001b[38;5;241m=\u001b[39m \u001b[43mselect\u001b[49m\u001b[38;5;241;43m.\u001b[39;49m\u001b[43mselect\u001b[49m\u001b[43m(\u001b[49m\n\u001b[0;32m    954\u001b[0m \u001b[43m            \u001b[49m\u001b[38;5;28;43mself\u001b[39;49m\u001b[38;5;241;43m.\u001b[39;49m\u001b[43m_fd_events\u001b[49m\u001b[43m[\u001b[49m\u001b[43mPollEvents\u001b[49m\u001b[38;5;241;43m.\u001b[39;49m\u001b[43mREAD\u001b[49m\u001b[43m]\u001b[49m\u001b[43m,\u001b[49m\n\u001b[0;32m    955\u001b[0m \u001b[43m            \u001b[49m\u001b[38;5;28;43mself\u001b[39;49m\u001b[38;5;241;43m.\u001b[39;49m\u001b[43m_fd_events\u001b[49m\u001b[43m[\u001b[49m\u001b[43mPollEvents\u001b[49m\u001b[38;5;241;43m.\u001b[39;49m\u001b[43mWRITE\u001b[49m\u001b[43m]\u001b[49m\u001b[43m,\u001b[49m\n\u001b[0;32m    956\u001b[0m \u001b[43m            \u001b[49m\u001b[38;5;28;43mself\u001b[39;49m\u001b[38;5;241;43m.\u001b[39;49m\u001b[43m_fd_events\u001b[49m\u001b[43m[\u001b[49m\u001b[43mPollEvents\u001b[49m\u001b[38;5;241;43m.\u001b[39;49m\u001b[43mERROR\u001b[49m\u001b[43m]\u001b[49m\u001b[43m,\u001b[49m\u001b[43m \u001b[49m\u001b[38;5;28;43mself\u001b[39;49m\u001b[38;5;241;43m.\u001b[39;49m\u001b[43m_get_max_wait\u001b[49m\u001b[43m(\u001b[49m\u001b[43m)\u001b[49m\u001b[43m)\u001b[49m\n\u001b[0;32m    957\u001b[0m     \u001b[38;5;28;01melse\u001b[39;00m:\n\u001b[0;32m    958\u001b[0m         \u001b[38;5;66;03m# NOTE When called without any FDs, select fails on\u001b[39;00m\n\u001b[0;32m    959\u001b[0m         \u001b[38;5;66;03m# Windows with error 10022, 'An invalid argument was\u001b[39;00m\n\u001b[0;32m    960\u001b[0m         \u001b[38;5;66;03m# supplied'.\u001b[39;00m\n\u001b[0;32m    961\u001b[0m         time\u001b[38;5;241m.\u001b[39msleep(\u001b[38;5;28mself\u001b[39m\u001b[38;5;241m.\u001b[39m_get_max_wait())\n",
      "\u001b[1;31mKeyboardInterrupt\u001b[0m: "
     ]
    }
   ],
   "source": [
    "channel.start_consuming()"
   ]
  }
 ],
 "metadata": {
  "kernelspec": {
   "display_name": "webScraping",
   "language": "python",
   "name": "python3"
  },
  "language_info": {
   "codemirror_mode": {
    "name": "ipython",
    "version": 3
   },
   "file_extension": ".py",
   "mimetype": "text/x-python",
   "name": "python",
   "nbconvert_exporter": "python",
   "pygments_lexer": "ipython3",
   "version": "3.10.16"
  }
 },
 "nbformat": 4,
 "nbformat_minor": 2
}
