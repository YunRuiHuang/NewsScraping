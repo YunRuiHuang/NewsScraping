{
 "cells": [
  {
   "cell_type": "code",
   "execution_count": 5,
   "metadata": {},
   "outputs": [],
   "source": [
    "import pika;\n",
    "import json;\n",
    "import time;"
   ]
  },
  {
   "cell_type": "code",
   "execution_count": null,
   "metadata": {},
   "outputs": [],
   "source": [
    "from selenium import webdriver\n",
    "from selenium.webdriver.chrome.service import Service\n",
    "from selenium.webdriver.common.by import By\n",
    "from selenium.webdriver.chrome.options import Options\n",
    "import re\n",
    "\n",
    "# selenium=4.24.0"
   ]
  },
  {
   "cell_type": "code",
   "execution_count": 7,
   "metadata": {},
   "outputs": [],
   "source": [
    "MQ_server = '192.168.0.202'\n",
    "driver_path = 'C:\\\\chromedriver-win64\\\\chromedriver.exe'\n",
    "extension_path = 'C:\\\\chromedriver-win64\\\\bypass-paywalls-firefox-clean-master.crx'"
   ]
  },
  {
   "cell_type": "code",
   "execution_count": 10,
   "metadata": {},
   "outputs": [],
   "source": [
    "service = Service(executable_path=driver_path)\n",
    "option = Options()\n",
    "option.add_extension(extension=extension_path)\n",
    "web = webdriver.Chrome(service=service,options=option)"
   ]
  },
  {
   "cell_type": "code",
   "execution_count": 11,
   "metadata": {},
   "outputs": [],
   "source": [
    "def webGet(url, title):\n",
    "    web.get(url=url)\n",
    "    textdata = web.find_elements(By.CLASS_NAME, 'evys1bk0')\n",
    "    artifact = ''\n",
    "    for data in textdata:\n",
    "        artifact = artifact + data.text\n",
    "    safe_filename = re.sub(r'[<>:\"/\\\\|?*]', '_', title) + \".txt\"\n",
    "    with open(safe_filename,\"w\") as file:\n",
    "        file.write(artifact)\n"
   ]
  },
  {
   "cell_type": "code",
   "execution_count": 13,
   "metadata": {},
   "outputs": [
    {
     "name": "stdout",
     "output_type": "stream",
     "text": [
      " [x] Received title=Trump’s U.S.A.I.D. Cuts Hobble Earthquake Response in Myanmar.\n",
      " author=Hannah Beech and Edward Wong,\n",
      " time = Sun, 30 Mar 2025 20:49:35 +0000\n",
      " [x] Received title=Gananath Obeyesekere, 95, Dies; Anthropologist Bridged East and West.\n",
      " author=Clay Risen,\n",
      " time = Sun, 30 Mar 2025 15:33:28 +0000\n",
      " [x] Received title=Hegseth Pledges to Step Up Military Cooperation With Japan and Deter China.\n",
      " author=Martin Fackler,\n",
      " time = Sun, 30 Mar 2025 15:41:41 +0000\n",
      " [x] Received title=In Myanmar, Earthquake Aftershocks and Airstrikes Terrorize Residents.\n",
      " author=Sui-Lee Wee,\n",
      " time = Sun, 30 Mar 2025 14:39:24 +0000\n",
      " [x] Received title=Bangkok Has New Fears About High-Rise Buildings After Myanmar Earthquake.\n",
      " author=Damien Cave, Muktita Suhartono and Richard C. Paddock,\n",
      " time = Sun, 30 Mar 2025 16:56:16 +0000\n",
      " [x] Received title=In Tokyo, Rice Farmers Protest ‘Misguided’ Rules Fueling Shortages.\n",
      " author=River Akira Davis and Hisako Ueno,\n",
      " time = Sun, 30 Mar 2025 09:19:27 +0000\n",
      " [x] Received title=‘They Will Label Us as Spies’: The Afghan Students Abandoned by America.\n",
      " author=Aryn Baker and Laura Boushnak,\n",
      " time = Sun, 30 Mar 2025 13:15:01 +0000\n",
      " [x] Received title=Taliban Appear to Free American Woman Detained in Afghanistan.\n",
      " author=Eve Sampson,\n",
      " time = Sun, 30 Mar 2025 17:06:09 +0000\n",
      " [x] Received title=Myanmar Earthquake Toll Surpasses 1,600 Dead Amid Search for Survivors.\n",
      " author=Sui-Lee Wee and Alan Yuhas,\n",
      " time = Sun, 30 Mar 2025 10:20:45 +0000\n",
      " [x] Received title=Search for Survivors at Collapsed Bangkok Building.\n",
      " author=Muktita Suhartono and Richard C. Paddock,\n",
      " time = Sun, 30 Mar 2025 01:53:21 +0000\n",
      " [x] Received title=Volunteer Rescuers in Mandalay Sift Through Earthquake Rubble.\n",
      " author=Sui-Lee Wee,\n",
      " time = Sun, 30 Mar 2025 10:40:21 +0000\n",
      " [x] Received title=Earthquake Devastates Myanmar’s Cultural Sites.\n",
      " author=Malachy Browne,\n",
      " time = Sat, 29 Mar 2025 15:53:58 +0000\n",
      " [x] Received title=In Myanmar’s Earthquake, Some See Political Omens.\n",
      " author=Hannah Beech,\n",
      " time = Sat, 29 Mar 2025 14:14:38 +0000\n",
      " [x] Received title=In Bangkok, a Desperate Search for Survivors Buried Under Collapsed Building.\n",
      " author=Muktita Suhartono and Verena Hölzl,\n",
      " time = Sat, 29 Mar 2025 13:08:11 +0000\n",
      " [x] Received title=Rubio Says He Has Revoked 300 or More Visas in Trump’s Deportation Push.\n",
      " author=Edward Wong,\n",
      " time = Fri, 28 Mar 2025 23:32:14 +0000\n",
      " [x] Received title=Earthquake Batters Myanmar and Thailand; High Toll Is Feared as Buildings Topple.\n",
      " author=Sui-Lee Wee, John Yoon, Richard C. Paddock and Michael Levenson,\n",
      " time = Sat, 29 Mar 2025 03:02:34 +0000\n",
      " [x] Received title=Protests Demanding Restoration of Monarchy in Nepal Turn Deadly.\n",
      " author=Bhadra Sharma,\n",
      " time = Fri, 28 Mar 2025 18:50:18 +0000\n",
      " [*] No messages in queue.\n",
      "\n",
      " [*] Exiting.\n"
     ]
    }
   ],
   "source": [
    "connection = pika.BlockingConnection(pika.ConnectionParameters(MQ_server))\n",
    "channel = connection.channel()\n",
    "channel.basic_qos(prefetch_count=1)\n",
    "try:\n",
    "    while True:\n",
    "        method_frame, header_frame, body = channel.basic_get(queue='nytime', auto_ack=False)\n",
    "\n",
    "        if method_frame:\n",
    "            data = json.loads(body)\n",
    "            print(f\" [x] Received title={data['title']}.\\n author={data['author']},\\n time = {data['date']}\")\n",
    "            webGet(data['url'], data['title'])\n",
    "            time.sleep(10)\n",
    "            channel.basic_ack(delivery_tag=method_frame.delivery_tag)\n",
    "        else:\n",
    "            print(\" [*] No messages in queue.\")\n",
    "            time.sleep(10)\n",
    "except KeyboardInterrupt:\n",
    "    print(\"\\n [*] Exiting.\")\n",
    "finally:\n",
    "    connection.close()"
   ]
  }
 ],
 "metadata": {
  "kernelspec": {
   "display_name": "news",
   "language": "python",
   "name": "python3"
  },
  "language_info": {
   "codemirror_mode": {
    "name": "ipython",
    "version": 3
   },
   "file_extension": ".py",
   "mimetype": "text/x-python",
   "name": "python",
   "nbconvert_exporter": "python",
   "pygments_lexer": "ipython3",
   "version": "3.10.16"
  }
 },
 "nbformat": 4,
 "nbformat_minor": 2
}
