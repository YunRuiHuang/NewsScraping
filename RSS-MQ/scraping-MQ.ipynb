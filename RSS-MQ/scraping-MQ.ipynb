{
 "cells": [
  {
   "cell_type": "code",
   "execution_count": 2,
   "metadata": {},
   "outputs": [],
   "source": [
    "import pika;\n",
    "import json;\n",
    "import time;"
   ]
  },
  {
   "cell_type": "code",
   "execution_count": 9,
   "metadata": {},
   "outputs": [],
   "source": [
    "from selenium import webdriver\n",
    "from selenium.webdriver.chrome.service import Service\n",
    "from selenium.webdriver.common.by import By\n",
    "from selenium.webdriver.chrome.options import Options\n",
    "import re"
   ]
  },
  {
   "cell_type": "code",
   "execution_count": 10,
   "metadata": {},
   "outputs": [],
   "source": [
    "MQ_server = '192.168.0.202'\n",
    "driver_path = 'C:\\\\chromedriver-win64\\\\chromedriver.exe'\n",
    "extension_path = 'C:\\\\chromedriver-win64\\\\bypass-paywalls-firefox-clean-master.crx'"
   ]
  },
  {
   "cell_type": "code",
   "execution_count": 11,
   "metadata": {},
   "outputs": [],
   "source": [
    "service = Service(executable_path=driver_path)\n",
    "option = Options()\n",
    "option.add_extension(extension=extension_path)\n",
    "web = webdriver.Chrome(service=service,options=option)"
   ]
  },
  {
   "cell_type": "code",
   "execution_count": 12,
   "metadata": {},
   "outputs": [],
   "source": [
    "def webGet(url, title):\n",
    "    web.get(url=url)\n",
    "    textdata = web.find_elements(By.CLASS_NAME, 'evys1bk0')\n",
    "    artifact = ''\n",
    "    for data in textdata:\n",
    "        artifact = artifact + data.text\n",
    "    safe_filename = re.sub(r'[<>:\"/\\\\|?*]', '_', title) + \".txt\"\n",
    "    with open(safe_filename,\"w\") as file:\n",
    "        file.write(artifact)\n"
   ]
  },
  {
   "cell_type": "code",
   "execution_count": 13,
   "metadata": {},
   "outputs": [
    {
     "name": "stdout",
     "output_type": "stream",
     "text": [
      " [x] Received title=Masaki Kashiwara, Japanese Mathematician, Wins 2025 Abel Prize.\n",
      " author=Kenneth Chang,\n",
      " time = Wed, 26 Mar 2025 13:12:21 +0000\n",
      " [x] Received title=South Korea, World’s Largest ‘Baby Exporter,’ Admits to Adoption Fraud.\n",
      " author=Choe Sang-Hun,\n",
      " time = Wed, 26 Mar 2025 10:12:57 +0000\n",
      " [x] Received title=South Korea Wildfires Kill 26 and Destroy 1,000-Year-Old Temples.\n",
      " author=Jin Yu Young,\n",
      " time = Thu, 27 Mar 2025 04:00:28 +0000\n",
      " [x] Received title=Why These Islanders Hunt Dolphins.\n",
      " author=Prianka Srinivasan and Matthew Abbott,\n",
      " time = Wed, 26 Mar 2025 15:52:37 +0000\n",
      " [x] Received title=India Is on a Hiring Binge That Trump’s Tariffs Can’t Stop.\n",
      " author=Alex Travelli and Hari Kumar,\n",
      " time = Wed, 26 Mar 2025 07:04:28 +0000\n",
      "\n",
      " [*] Exiting.\n"
     ]
    }
   ],
   "source": [
    "connection = pika.BlockingConnection(pika.ConnectionParameters(MQ_server))\n",
    "channel = connection.channel()\n",
    "channel.basic_qos(prefetch_count=1)\n",
    "try:\n",
    "    while True:\n",
    "        method_frame, header_frame, body = channel.basic_get(queue='nytime', auto_ack=False)\n",
    "\n",
    "        if method_frame:\n",
    "            data = json.loads(body)\n",
    "            print(f\" [x] Received title={data['title']}.\\n author={data['author']},\\n time = {data['date']}\")\n",
    "            webGet(data['url'], data['title'])\n",
    "            time.sleep(10)\n",
    "            channel.basic_ack(delivery_tag=method_frame.delivery_tag)\n",
    "        else:\n",
    "            print(\" [*] No messages in queue.\")\n",
    "            time.sleep(10)\n",
    "except KeyboardInterrupt:\n",
    "    print(\"\\n [*] Exiting.\")\n",
    "finally:\n",
    "    connection.close()"
   ]
  }
 ],
 "metadata": {
  "kernelspec": {
   "display_name": "webScraping",
   "language": "python",
   "name": "python3"
  },
  "language_info": {
   "codemirror_mode": {
    "name": "ipython",
    "version": 3
   },
   "file_extension": ".py",
   "mimetype": "text/x-python",
   "name": "python",
   "nbconvert_exporter": "python",
   "pygments_lexer": "ipython3",
   "version": "3.10.16"
  }
 },
 "nbformat": 4,
 "nbformat_minor": 2
}
