{
 "cells": [
  {
   "cell_type": "code",
   "execution_count": null,
   "metadata": {},
   "outputs": [],
   "source": [
    "import pika;\n",
    "import json;\n",
    "import time;"
   ]
  },
  {
   "cell_type": "code",
   "execution_count": null,
   "metadata": {},
   "outputs": [],
   "source": [
    "from selenium import webdriver\n",
    "from selenium.webdriver.chrome.service import Service\n",
    "from selenium.webdriver.common.by import By\n",
    "from selenium.webdriver.chrome.options import Options\n",
    "import re\n",
    "\n",
    "# selenium=4.24.0"
   ]
  },
  {
   "cell_type": "code",
   "execution_count": null,
   "metadata": {},
   "outputs": [],
   "source": [
    "MQ_server = '192.168.0.202'\n",
    "driver_path = 'C:\\\\chromedriver-win64\\\\chromedriver.exe'\n",
    "extension_path = 'C:\\\\chromedriver-win64\\\\bypass-paywalls-firefox-clean-master.crx'"
   ]
  },
  {
   "cell_type": "code",
   "execution_count": null,
   "metadata": {},
   "outputs": [],
   "source": [
    "service = Service(executable_path=driver_path)\n",
    "option = Options()\n",
    "option.add_extension(extension=extension_path)\n",
    "web = webdriver.Chrome(service=service,options=option)"
   ]
  },
  {
   "cell_type": "code",
   "execution_count": null,
   "metadata": {},
   "outputs": [],
   "source": [
    "def webGet(url, title):\n",
    "    web.get(url=url)\n",
    "    textdata = web.find_elements(By.CLASS_NAME, 'evys1bk0')\n",
    "    artifact = ''\n",
    "    for data in textdata:\n",
    "        artifact = artifact + data.text\n",
    "    safe_filename = re.sub(r'[<>:\"/\\\\|?*]', '_', title) + \".txt\"\n",
    "    with open(safe_filename,\"w\") as file:\n",
    "        file.write(artifact)\n"
   ]
  },
  {
   "cell_type": "code",
   "execution_count": null,
   "metadata": {},
   "outputs": [],
   "source": [
    "connection = pika.BlockingConnection(pika.ConnectionParameters(MQ_server))\n",
    "channel = connection.channel()\n",
    "channel.basic_qos(prefetch_count=1)\n",
    "try:\n",
    "    while True:\n",
    "        method_frame, header_frame, body = channel.basic_get(queue='nytime', auto_ack=False)\n",
    "\n",
    "        if method_frame:\n",
    "            data = json.loads(body)\n",
    "            print(f\" [x] Received title={data['title']}.\\n author={data['author']},\\n time = {data['date']}\")\n",
    "            webGet(data['url'], data['title'])\n",
    "            time.sleep(10)\n",
    "            channel.basic_ack(delivery_tag=method_frame.delivery_tag)\n",
    "        else:\n",
    "            print(\" [*] No messages in queue.\")\n",
    "            time.sleep(10)\n",
    "except KeyboardInterrupt:\n",
    "    print(\"\\n [*] Exiting.\")\n",
    "finally:\n",
    "    connection.close()"
   ]
  }
 ],
 "metadata": {
  "kernelspec": {
   "display_name": "news",
   "language": "python",
   "name": "python3"
  },
  "language_info": {
   "codemirror_mode": {
    "name": "ipython",
    "version": 3
   },
   "file_extension": ".py",
   "mimetype": "text/x-python",
   "name": "python",
   "nbconvert_exporter": "python",
   "pygments_lexer": "ipython3",
   "version": "3.10.16"
  }
 },
 "nbformat": 4,
 "nbformat_minor": 2
}
