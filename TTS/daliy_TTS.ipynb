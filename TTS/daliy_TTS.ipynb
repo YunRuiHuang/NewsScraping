{
 "cells": [
  {
   "cell_type": "code",
   "execution_count": 51,
   "id": "e5fc29cd",
   "metadata": {},
   "outputs": [],
   "source": [
    "from kokoro import KPipeline\n",
    "import soundfile as sf\n",
    "from pydub import AudioSegment\n",
    "import json;\n",
    "import time;\n",
    "import mysql.connector;\n",
    "import requests\n",
    "from concurrent.futures import ThreadPoolExecutor\n",
    "from datetime import datetime\n",
    "import os\n"
   ]
  },
  {
   "cell_type": "code",
   "execution_count": 52,
   "id": "f1d837d6",
   "metadata": {},
   "outputs": [],
   "source": [
    "mysql_host = '192.168.0.202'\n",
    "mysql_port = 4000\n",
    "file_app_url = \"http://192.168.0.202:3007/file\"\n",
    "hour = 24\n",
    "get_sql = f\"select news_id, news_company from news where date >= NOW() - INTERVAL {hour} HOUR;\""
   ]
  },
  {
   "cell_type": "code",
   "execution_count": 53,
   "id": "144daa93",
   "metadata": {},
   "outputs": [],
   "source": [
    "db_conn = mysql.connector.connect(\n",
    "    host=mysql_host,\n",
    "    port=mysql_port,\n",
    "    user=\"root\",\n",
    "    password=\"password\",\n",
    "    database=\"news\"\n",
    ")\n",
    "cursor = db_conn.cursor(dictionary=True)\n",
    "cursor.execute(get_sql)\n",
    "rows = cursor.fetchall()"
   ]
  },
  {
   "cell_type": "code",
   "execution_count": null,
   "id": "aff1a89f",
   "metadata": {},
   "outputs": [],
   "source": [
    "news_id = list()\n",
    "for r in rows:\n",
    "  news_id.append(r['news_id'])"
   ]
  },
  {
   "cell_type": "code",
   "execution_count": 55,
   "id": "c9fefbfc",
   "metadata": {},
   "outputs": [
    {
     "data": {
      "text/plain": [
       "[42553, 42953, 43113, 43233, 43253, 43513, 44073]"
      ]
     },
     "execution_count": 55,
     "metadata": {},
     "output_type": "execute_result"
    }
   ],
   "source": [
    "news_id"
   ]
  },
  {
   "cell_type": "code",
   "execution_count": 56,
   "id": "e795aaa5",
   "metadata": {},
   "outputs": [],
   "source": [
    "def download_wav(id):\n",
    "    url = f\"{file_app_url}?fileName={id}.wav\"\n",
    "    try:\n",
    "        response = requests.get(url, stream=True)\n",
    "        if response.status_code == 200:\n",
    "            filename = f\"{id}.wav\"\n",
    "            with open(filename, 'wb') as f:\n",
    "                for chunk in response.iter_content(chunk_size=8192):\n",
    "                    if chunk:\n",
    "                        f.write(chunk)\n",
    "            print(f\"Downloaded {filename}\")\n",
    "        else:\n",
    "            print(f\"Failed to download {id}.wav, status code: {response.status_code}\")\n",
    "    except Exception as e:\n",
    "        print(f\"Error downloading {id}.wav: {e}\")"
   ]
  },
  {
   "cell_type": "code",
   "execution_count": 57,
   "id": "52cf69be",
   "metadata": {},
   "outputs": [
    {
     "name": "stdout",
     "output_type": "stream",
     "text": [
      "Downloaded 42553.wav\n",
      "Downloaded 42953.wav\n",
      "Downloaded 43233.wav\n",
      "Downloaded 43113.wav\n",
      "Downloaded 43253.wav\n",
      "Downloaded 43513.wav\n",
      "Downloaded 44073.wav\n"
     ]
    }
   ],
   "source": [
    "with ThreadPoolExecutor(max_workers=5) as executor:\n",
    "    executor.map(download_wav, news_id)"
   ]
  },
  {
   "cell_type": "code",
   "execution_count": 58,
   "id": "5c7967ec",
   "metadata": {},
   "outputs": [
    {
     "data": {
      "text/plain": [
       "<_io.BufferedRandom name='output.wav'>"
      ]
     },
     "execution_count": 58,
     "metadata": {},
     "output_type": "execute_result"
    }
   ],
   "source": [
    "output = AudioSegment.empty()\n",
    "for i in news_id:  # include 0.wav to n.wav\n",
    "    output += AudioSegment.from_wav(\"next.wav\")\n",
    "    file_name = f\"{i}.wav\"\n",
    "    audio = AudioSegment.from_wav(file_name)\n",
    "    output += audio  # append\n",
    "\n",
    "output.export(\"output.wav\", format=\"wav\")"
   ]
  },
  {
   "cell_type": "code",
   "execution_count": null,
   "id": "6cbfdc42",
   "metadata": {},
   "outputs": [],
   "source": [
    "duration = int(len(output) / 1000.0 / 60)"
   ]
  },
  {
   "cell_type": "code",
   "execution_count": 60,
   "id": "877b8fbd",
   "metadata": {},
   "outputs": [],
   "source": [
    "def get_greeting(hour):\n",
    "    if 5 <= hour < 12:\n",
    "        return \"Good morning\"\n",
    "    elif 12 <= hour < 18:\n",
    "        return \"Good afternoon\"\n",
    "    elif 18 <= hour < 22:\n",
    "        return \"Good evening\"\n",
    "    else:\n",
    "        return \"Good night\""
   ]
  },
  {
   "cell_type": "code",
   "execution_count": 61,
   "id": "eb7e6230",
   "metadata": {},
   "outputs": [],
   "source": [
    "greeting = get_greeting(datetime.now().hour)\n",
    "date_str = datetime.now().strftime(\"%B %d, %Y\")\n",
    "total_news = len(rows)"
   ]
  },
  {
   "cell_type": "code",
   "execution_count": 62,
   "id": "418c8e70",
   "metadata": {},
   "outputs": [],
   "source": [
    "companies = {row['news_company'] for row in rows if row['news_company']}\n",
    "company_str = \", \".join(companies) if companies else \"various sources\""
   ]
  },
  {
   "cell_type": "code",
   "execution_count": 63,
   "id": "9c30d5d1",
   "metadata": {},
   "outputs": [],
   "source": [
    "message = f\"{greeting}! Today is {date_str}. There are {total_news} news articles from {company_str} in the past {hour} hours. It will take about {duration} minutes to go through them.\""
   ]
  },
  {
   "cell_type": "code",
   "execution_count": 64,
   "id": "b80dc232",
   "metadata": {},
   "outputs": [
    {
     "data": {
      "text/plain": [
       "'Good night! Today is April 25, 2025. There are 7 news articles from nytime in the past 24 hours. It will take about 10 minutes to go through them.'"
      ]
     },
     "execution_count": 64,
     "metadata": {},
     "output_type": "execute_result"
    }
   ],
   "source": [
    "message"
   ]
  },
  {
   "cell_type": "code",
   "execution_count": 65,
   "id": "aef88637",
   "metadata": {},
   "outputs": [
    {
     "name": "stdout",
     "output_type": "stream",
     "text": [
      "WARNING: Defaulting repo_id to hexgrad/Kokoro-82M. Pass repo_id='hexgrad/Kokoro-82M' to suppress this warning.\n"
     ]
    },
    {
     "name": "stderr",
     "output_type": "stream",
     "text": [
      "c:\\Users\\16507\\anaconda3\\envs\\TTS\\lib\\site-packages\\torch\\nn\\modules\\rnn.py:123: UserWarning: dropout option adds dropout after all but last recurrent layer, so non-zero dropout expects num_layers greater than 1, but got dropout=0.2 and num_layers=1\n",
      "  warnings.warn(\n",
      "c:\\Users\\16507\\anaconda3\\envs\\TTS\\lib\\site-packages\\torch\\nn\\utils\\weight_norm.py:143: FutureWarning: `torch.nn.utils.weight_norm` is deprecated in favor of `torch.nn.utils.parametrizations.weight_norm`.\n",
      "  WeightNorm.apply(module, name, dim)\n"
     ]
    },
    {
     "name": "stdout",
     "output_type": "stream",
     "text": [
      "0 Good night! Today is April 25, 2025. There are 7 news articles from nytime in the past 24 hours. It will take about 10 minutes to go through them. ɡˈʊd nˈIt! tədˈA ɪz ˈApɹəl twˈɛnti fˈIv, twˈɛnti twˈɛnti fˈIv. ðˌɛɹ ɑɹ sˈɛvən nˈuz ˈɑɹTəkᵊlz fɹʌm nˈItIm ɪn ðə pˈæst twˈɛnti fˈɔɹ ˈWəɹz. ˌɪt wɪl tˈAk əbˈWt tˈɛn mˈɪnəts tə ɡˌO θɹu ðˌɛm.\n"
     ]
    }
   ],
   "source": [
    "pipeline = KPipeline(lang_code='a')\n",
    "generator = pipeline(message, voice='af_heart')\n",
    "n = 0\n",
    "for i, (gs, ps, audio) in enumerate(generator):\n",
    "    n = i\n",
    "    print(i, gs, ps)\n",
    "    sf.write(f'{i}.wav', audio, 24000)"
   ]
  },
  {
   "cell_type": "code",
   "execution_count": 66,
   "id": "9308ac57",
   "metadata": {},
   "outputs": [
    {
     "data": {
      "text/plain": [
       "<_io.BufferedRandom name='daily.wav'>"
      ]
     },
     "execution_count": 66,
     "metadata": {},
     "output_type": "execute_result"
    }
   ],
   "source": [
    "output = AudioSegment.empty()\n",
    "for i in range(n + 1):  # include 0.wav to n.wav\n",
    "    file_name = f\"{i}.wav\"\n",
    "    audio = AudioSegment.from_wav(file_name)\n",
    "    output += audio  # append\n",
    "\n",
    "output += AudioSegment.from_wav(\"output.wav\")\n",
    "output += AudioSegment.from_wav(\"end.wav\")\n",
    "\n",
    "output.export(\"daily.wav\", format=\"wav\")"
   ]
  },
  {
   "cell_type": "code",
   "execution_count": 67,
   "id": "e069d007",
   "metadata": {},
   "outputs": [],
   "source": [
    "files = {\n",
    "  \"file\": open(\"daily.wav\", \"rb\")\n",
    "}\n",
    "\n",
    "data = {\n",
    "  \"fileName\": \"daily\",\n",
    "  \"fileType\": \"wav\"\n",
    "}\n",
    "\n",
    "response = requests.post(file_app_url, files=files, data=data)"
   ]
  },
  {
   "cell_type": "code",
   "execution_count": 68,
   "id": "f9ef98ee",
   "metadata": {},
   "outputs": [
    {
     "name": "stdout",
     "output_type": "stream",
     "text": [
      "Deleted 42553.wav\n",
      "Deleted 42953.wav\n",
      "Deleted 43113.wav\n",
      "Deleted 43233.wav\n",
      "Deleted 43253.wav\n",
      "Deleted 43513.wav\n",
      "Deleted 44073.wav\n"
     ]
    }
   ],
   "source": [
    "for id in news_id:\n",
    "    filename = f\"{id}.wav\"\n",
    "    if os.path.exists(filename):\n",
    "        try:\n",
    "            os.remove(filename)\n",
    "            print(f\"Deleted {filename}\")\n",
    "        except Exception as e:\n",
    "            print(f\"Error deleting {filename}: {e}\")"
   ]
  }
 ],
 "metadata": {
  "kernelspec": {
   "display_name": "TTS",
   "language": "python",
   "name": "python3"
  },
  "language_info": {
   "codemirror_mode": {
    "name": "ipython",
    "version": 3
   },
   "file_extension": ".py",
   "mimetype": "text/x-python",
   "name": "python",
   "nbconvert_exporter": "python",
   "pygments_lexer": "ipython3",
   "version": "3.10.16"
  }
 },
 "nbformat": 4,
 "nbformat_minor": 5
}
