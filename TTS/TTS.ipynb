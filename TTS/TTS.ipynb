{
 "cells": [
  {
   "cell_type": "code",
   "execution_count": null,
   "id": "ac2dc79c",
   "metadata": {},
   "outputs": [],
   "source": [
    "print(\"test\")"
   ]
  },
  {
   "cell_type": "code",
   "execution_count": null,
   "id": "2ba1e9b9",
   "metadata": {},
   "outputs": [],
   "source": [
    "from kokoro import KPipeline\n",
    "from IPython.display import display, Audio\n",
    "import soundfile as sf\n",
    "import torch\n",
    "pipeline = KPipeline(lang_code='z')\n",
    "text ='''\n",
    " [Kokoro](/kˈOkəɹO/) is an open-weight TTS model with 82 million parameters. Despite its lightweight architecture, it delivers comparable quality to larger models while being significantly faster and more cost-efficient. With Apache-licensed weights, [Kokoro](/kˈOkəɹO/) can be deployed anywhere from production environments to personal projects.\n",
    " '''\n",
    "generator = pipeline(text, voice='zf_xiaoyi')\n",
    "for i, (gs, ps, audio) in enumerate(generator):\n",
    "    print(i, gs, ps)\n",
    "    sf.write(f'{i}.wav', audio, 24000)"
   ]
  },
  {
   "cell_type": "code",
   "execution_count": null,
   "id": "ba38bfe3",
   "metadata": {},
   "outputs": [],
   "source": [
    "ffmpeg -i 0.wav -i 1.wav -i 2.wav -i 3.wav -i 4.wav -i 5.wav -filter_complex \"[0:a][1:a][2:a][3:a][4:a][5:a]concat=n=6:v=0:a=1\" output.wav"
   ]
  },
  {
   "cell_type": "code",
   "execution_count": null,
   "id": "17f10595",
   "metadata": {},
   "outputs": [],
   "source": [
    "with open(\"filelist.txt\", \"w\") as f:\n",
    "    for i in range(12+1):  # Replace n with your actual number\n",
    "        f.write(f\"file '{i}.wav'\\n\")"
   ]
  },
  {
   "cell_type": "code",
   "execution_count": null,
   "id": "a139a35d",
   "metadata": {},
   "outputs": [],
   "source": [
    "import mysql.connector;\n",
    "from kokoro import KPipeline\n",
    "from IPython.display import display, Audio\n",
    "import soundfile as sf\n",
    "from datetime import datetime"
   ]
  },
  {
   "cell_type": "code",
   "execution_count": null,
   "id": "681f5a59",
   "metadata": {},
   "outputs": [],
   "source": [
    "hour = 24\n",
    "pipeline = KPipeline(lang_code='a')\n",
    "mysql_host = \"192.168.0.202\" #'news-mysql'\n",
    "mysql_port = 4000 #3306\n",
    "db_conn = mysql.connector.connect(\n",
    "    host=mysql_host,\n",
    "    port=mysql_port,\n",
    "    user=\"root\",\n",
    "    password=\"password\",\n",
    "    database=\"news\"\n",
    ")\n",
    "cursor = db_conn.cursor(dictionary=True)\n",
    "# sql = f\"select * from news where date >= NOW() - INTERVAL {hour} HOUR;\"\n",
    "sql = \"select * from news where news_id = 32073;\"\n",
    "\n",
    "cursor.execute(sql)\n",
    "rows = cursor.fetchall()\n",
    "\n"
   ]
  },
  {
   "cell_type": "code",
   "execution_count": null,
   "id": "2af9b01d",
   "metadata": {},
   "outputs": [],
   "source": [
    "def get_greeting(hour):\n",
    "    if 5 <= hour < 12:\n",
    "        return \"Good morning\"\n",
    "    elif 12 <= hour < 18:\n",
    "        return \"Good afternoon\"\n",
    "    elif 18 <= hour < 22:\n",
    "        return \"Good evening\"\n",
    "    else:\n",
    "        return \"Good night\""
   ]
  },
  {
   "cell_type": "code",
   "execution_count": null,
   "id": "70724853",
   "metadata": {},
   "outputs": [],
   "source": [
    "greeting = get_greeting(datetime.now().hour)\n",
    "date_str = datetime.now().strftime(\"%B %d, %Y\")\n",
    "total_news = len(rows)"
   ]
  },
  {
   "cell_type": "code",
   "execution_count": null,
   "id": "9d8e72f8",
   "metadata": {},
   "outputs": [],
   "source": [
    "companies = {row['news_company'] for row in rows if row['news_company']}\n",
    "company_str = \", \".join(companies) if companies else \"various sources\""
   ]
  },
  {
   "cell_type": "code",
   "execution_count": null,
   "id": "92a3e826",
   "metadata": {},
   "outputs": [],
   "source": [
    "message = f\"{greeting}! Today is {date_str}. There are {total_news} news articles from {company_str} in the past {hour} hours.\""
   ]
  },
  {
   "cell_type": "code",
   "execution_count": null,
   "id": "998b9a46",
   "metadata": {},
   "outputs": [],
   "source": [
    "message"
   ]
  },
  {
   "cell_type": "code",
   "execution_count": null,
   "id": "46cd6a1b",
   "metadata": {},
   "outputs": [],
   "source": [
    "for idx, row in enumerate(rows, start=1):\n",
    "  title = row.get('title', 'Untitled')\n",
    "  author = row.get('author', 'Unknown Author')\n",
    "  context = row.get('summary', '').strip()\n",
    "  print(idx, title, author, context)\n",
    "  message += f\"{idx}. \\\"{title}\\\" written by {author}. {context}\"\n",
    "\n",
    "message += \"That’s all the news for today. Stay informed!\"\n"
   ]
  },
  {
   "cell_type": "code",
   "execution_count": null,
   "id": "0fb918fa",
   "metadata": {},
   "outputs": [],
   "source": [
    "text = \"\"\n",
    "\n",
    "generator = pipeline(message, voice='af_heart')\n",
    "for i, (gs, ps, audio) in enumerate(generator):\n",
    "    print(i, gs, ps)\n",
    "    sf.write(f'{i}.wav', audio, 24000)"
   ]
  },
  {
   "cell_type": "code",
   "execution_count": null,
   "id": "3ac529bb",
   "metadata": {},
   "outputs": [],
   "source": [
    "from pydub import AudioSegment"
   ]
  },
  {
   "cell_type": "code",
   "execution_count": null,
   "id": "06c943b6",
   "metadata": {},
   "outputs": [],
   "source": [
    "output = AudioSegment.empty()\n",
    "\n",
    "n = 5 \n",
    "for i in range(n + 1):  # include 0.wav to n.wav\n",
    "    file_name = f\"{i}.wav\"\n",
    "    audio = AudioSegment.from_wav(file_name)\n",
    "    output += audio  # append\n",
    "\n",
    "output.export(\"output.wav\", format=\"wav\")"
   ]
  }
 ],
 "metadata": {
  "kernelspec": {
   "display_name": "TTS",
   "language": "python",
   "name": "python3"
  },
  "language_info": {
   "codemirror_mode": {
    "name": "ipython",
    "version": 3
   },
   "file_extension": ".py",
   "mimetype": "text/x-python",
   "name": "python",
   "nbconvert_exporter": "python",
   "pygments_lexer": "ipython3",
   "version": "3.10.16"
  }
 },
 "nbformat": 4,
 "nbformat_minor": 5
}
