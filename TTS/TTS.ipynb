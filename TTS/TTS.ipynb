{
 "cells": [
  {
   "cell_type": "code",
   "execution_count": 2,
   "id": "ac2dc79c",
   "metadata": {},
   "outputs": [
    {
     "name": "stdout",
     "output_type": "stream",
     "text": [
      "test\n"
     ]
    }
   ],
   "source": [
    "print(\"test\")"
   ]
  },
  {
   "cell_type": "code",
   "execution_count": 14,
   "id": "2ba1e9b9",
   "metadata": {},
   "outputs": [
    {
     "name": "stdout",
     "output_type": "stream",
     "text": [
      "WARNING: Defaulting repo_id to hexgrad/Kokoro-82M. Pass repo_id='hexgrad/Kokoro-82M' to suppress this warning.\n",
      "0 神父在教区宿舍外遭枪击身亡 ʂə↗nfu↘ ʦai↘ ʨjau↘ʨʰy→ su↘ʂɤ↘ wai↘ʦau→ ʨʰja→ŋʨi→ ʂə→nwa↗ŋ\n",
      "1 作者：Claire Fahy，2025年4月5日 16:20:55 ʦwo↘ꭧɤ↓: Claire Fahy, ɚ↘li↗ŋɚ↘ u↓njɛ↗n sɨ↘ɥe↘ u↓ɻɨ↘ ʂɨ↗ljou↘:ɚ↘ʂɨ↗:u↓ʂɨ↗u↓\n",
      "2 据当局称，周四在堪萨斯州，一名男子在天主教教区宿舍外枪杀了一位神父，目前尚无明确作案动机。 ʨy↘ ta→ŋʨy↗ ꭧʰə→ŋ, ꭧou→sɨ↘ ʦai↘ kʰa→nsa↘sɨ→ꭧou→, i→mi↗ŋ na↗nʦɨ ʦai↘ tʰjɛ→nꭧu↓ʨjau↘ ʨjau↘ʨʰy→ su↘ʂɤ↘ wai↘ ʨʰja→ŋʂa→ lɤ i→wei↘ ʂə↗nfu↘, mu↘ʨʰjɛ↗n ʂa↘ŋu↗ mi↗ŋʨʰɥe↘ ʦwo↘a↘ntʊ↘ŋʨi→.\n",
      "3 这位神父名叫阿鲁尔·卡拉萨拉（Arul Carasala），57岁。根据堪萨斯州调查局的消息，州警官于当天下午大约3点在堪萨斯州塞内卡市的圣彼得与圣保禄天主教教堂宿舍外发现了他身中数枪。神父随后被送往医院，但因伤势过重不治身亡。 ꭧɤ↘wei↘ ʂə↗nfu↘ mi↗ŋʨjau↘ a→ lu↓ɚ↓·kʰa↓la→ sa↘la→ (Arul Carasala) , u↓ʂɨ↗ʨʰi→swei↘. kə→nʨy↘ kʰa→nsa↘sɨ→ꭧou→ tjau↘ꭧʰa↗ʨy↗ tɤ ɕjau→ɕi→, ꭧou→ ʨi↓ŋkwa→n y↗ ta↘ŋtʰjɛ→n ɕja↘u↓ ta↘ɥe→ sa→ntjɛ↓n ʦai↘ kʰa→nsa↘sɨ→ꭧou→ sai→nei↘ kʰa↓ʂɨ↘ tɤ ʂə↘ŋpi↓tɤ↗ y↓ ʂə↘ŋpau↓lu↘ tʰjɛ→nꭧu↓ʨjau↘ ʨjau↘tʰa↗ŋ su↘ʂɤ↘ wai↘ fa→ɕjɛ↘n lɤ tʰa→ ʂə→nꭧʊ→ŋʂu↘ʨʰja→ŋ. ʂə↗nfu↘ swei↗xou↘ pei↘ sʊ↘ŋwa↓ŋ i→ɥɛ↘n, ta↘n i→n ʂa→ŋʂɨ↘ kwo↘ꭧʊ↘ŋ pu↘ ꭧɨ↘ ʂə→nwa↗ŋ.\n",
      "4 不久后，66岁的加里·L·赫梅施（Gary L. Hermesch）被当局逮捕，并以涉嫌一级谋杀的罪名被关押在内马哈县监狱。目前尚不清楚赫梅施被捕的具体原因，也无法确认他是否已聘请律师。 pu↘ʨjou↓ xou↘, ljou↘ʂɨ↗ljou↘swei↘ tɤ ʨja→li↓·L·xɤ↘mei↗ʂɨ→ (Gary L. Hermesch) pei↘ ta→ŋʨy↗ tai↘pu↓, pi↘ŋ i↓ ʂɤ↘ɕjɛ↗n i→ʨi↗ mou↗ʂa→ tɤ ʦwei↘mi↗ŋ pei↘ kwa→nja→ ʦai↘nei↘ ma↓xa→ ɕjɛ↘nʨjɛ→ny↘. mu↘ʨʰjɛ↗n ʂa↘ŋ pu↘ ʨʰi→ŋꭧʰu↓ xɤ↘mei↗ʂɨ→ pei↘pu↓ tɤ ʨy↘tʰi↓ ɥɛ↗ni→n, je↓ u↗fa↓ ʨʰɥe↘ɻə↘n tʰa→ ʂɨ↘fou↓ i↓ pʰi↘nʨʰi↓ŋ ly↘ʂɨ→.\n",
      "5 关于这起枪击事件的动机，堪萨斯州调查局尚未给出解释，调查仍在继续。 kwa→ny↗ ꭧɤ↘ʨʰi↓ ʨʰja→ŋʨi→ ʂɨ↘ʨjɛ↘n tɤ tʊ↘ŋʨi→, kʰa→nsa↘sɨ→ꭧou→ tjau↘ꭧʰa↗ʨy↗ ʂa↘ŋwei↘ kei↓ꭧʰu→ ʨje↓ʂɨ↘, tjau↘ꭧʰa↗ ɻə↗ŋ ʦai↘ ʨi↘ɕy↘.\n",
      "6 “这起毫无意义的暴力行为让我们失去了一位深受爱戴的神父、领袖和朋友，我们深感悲痛。”堪萨斯城的约瑟夫·F·诺曼大主教在 Facebook 上表示。他补充道：“让我们也为行凶者祈祷，愿上帝触动并改变他的内心。” “ꭧɤ↘ʨʰi↓ xau↗u↗i↘i↘ tɤ pau↘li↘ɕi↗ŋwei↗ ɻa↘ŋ wo↓mən ʂɨ→ʨʰy↘ lɤ i→wei↘ ʂə→nʂou↘ ai↘tai↘ tɤ ʂə↗nfu↘, li↓ŋɕjou↘ xɤ↗ pʰə↗ŋjou↓, wo↓mən ʂə→nka↓n pei→tʰʊ↘ŋ. ”kʰa→nsa↘sɨ→ꭧʰə↗ŋ tɤ ɥe→sɤ↘fu→·F·nwo↘ma↘n ta↘ꭧu↓ʨjau↘ ʦai↘ Facebook ʂa↘ŋ pjau↓ʂɨ↘. tʰa→ pu↓ꭧʰʊ→ŋ tau↘: “ɻa↘ŋ wo↓mən je↓ wei↘ ɕi↗ŋɕjʊ→ŋ ꭧɤ↓ ʨʰi↗tau↓, ɥɛ↘n ʂa↘ŋti↘ ꭧʰu↘tʊ↘ŋ pi↘ŋ kai↓pjɛ↘n tʰa→ tɤ nei↘ɕi→n. ”\n",
      "7 塞内卡是堪萨斯州北部一个约有2,000人的小镇，靠近内布拉斯加州边界。当局表示，赫梅施来自俄克拉荷马州塔尔萨，距离塞内卡约300英里（约480公里）。 sai→nei↘ kʰa↓ʂɨ↘ kʰa→nsa↘sɨ→ꭧou→ pei↓pu↘ i↗kɤ↘ ɥe→ jou↓ ɚ↘,li↗ŋɻə↗n tɤ ɕjau↓ꭧə↘n, kʰau↘ʨi↘n nei↘pu↘la→sɨ→ʨja→ꭧou→ pjɛ→nʨje↘. ta→ŋʨy↗ pjau↓ʂɨ↘, xɤ↘mei↗ʂɨ→ lai↗ʦɨ↘ ɤ↗kʰɤ↘la→xɤ↗ma↓ꭧou→ tʰa↓ɚ↓ sa↘, ʨy↘li↗ sai→nei↘ kʰa↓ɥe→ sa→npai↓ i→ŋli↓ (ɥe→ sɨ↘pai↓pa→ʂɨ↗ kʊ→ŋli↓) .\n",
      "8 拉杰·“阿鲁尔”·巴拉斯瓦米·卡拉萨拉神父出生于印度东南部城市库达帕。据一份在线传记介绍，卡拉萨拉神父于2011年7月15日成为圣彼得与圣保禄教区的本堂神父。 la→ʨje↗·“a→ lu↓ɚ↓”·pa→la→sɨ→ wa↓mi↓·kʰa↓la→ sa↘la→ ʂə↗nfu↘ ꭧʰu→ ʂə→ŋy↗ i↘ntu↘ tʊ→ŋna↗npu↘ ꭧʰə↗ŋʂɨ↘ kʰu↘ta↗ pʰa↘. ʨy↘ i→fə↘n ʦai↘ɕjɛ↘n ꭧwa↘nʨi↘ ʨje↘ʂau↘, kʰa↓la→ sa↘la→ ʂə↗nfu↘ y↗ɚ↘li↗ŋi→ i→njɛ↗n ʨʰi→ɥe↘ ʂɨ↗u↓ɻɨ↘ ꭧʰə↗ŋwei↗ ʂə↘ŋpi↓tɤ↗ y↓ ʂə↘ŋpau↓lu↘ ʨjau↘ʨʰy→ tɤ pə↓ntʰa↗ŋ ʂə↗nfu↘.\n",
      "9 他最初在库达帕教区被授予神职，2004年迁至堪萨斯州，曾在四个不同的教区任职，最终定居在塞内卡。 tʰa→ ʦwei↘ꭧʰu→ ʦai↘ kʰu↘ta↗ pʰa↘ ʨjau↘ʨʰy→ pei↘ ʂou↘y↓ ʂə↗nꭧɨ↗, ɚ↘li↗ŋli↗ŋsɨ↘njɛ↗n ʨʰjɛ→nꭧɨ↘ kʰa→nsa↘sɨ→ꭧou→, ʦʰə↗ŋ ʦai↘ sɨ↘kɤ↘ pu↘tʰʊ↗ŋ tɤ ʨjau↘ʨʰy→ ɻə↘nꭧɨ↗, ʦwei↘ꭧʊ→ŋ ti↘ŋʨy→ ʦai↘ sai→nei↘ kʰa↓.\n",
      "10 根据传记，卡拉萨拉神父于2011年5月20日成为美国公民。他始终保持与印度的联系，并坚信“无论身在何处，教会即是家”。 kə→nʨy↘ ꭧwa↘nʨi↘, kʰa↓la→ sa↘la→ ʂə↗nfu↘ y↗ɚ↘li↗ŋi→ i→njɛ↗n u↓ɥe↘ ɚ↘ʂɨ↗ɻɨ↘ ꭧʰə↗ŋwei↗ mei↓kwo↗ kʊ→ŋmi↗n. tʰa→ ʂɨ↓ꭧʊ→ŋpau↓ꭧʰɨ↗ y↓ i↘ntu↘ tɤ ljɛ↗nɕi↘, pi↘ŋ ʨjɛ→nɕi↘n“u↗lwə↘n ʂə→nʦai↘ xɤ↗ꭧʰu↓, ʨjau↘xwei↘ ʨi↗ ʂɨ↘ ʨja→”.\n",
      "11 诺曼大主教在社交媒体上表示，他于周四晚间为卡拉萨拉神父举行了弥撒。 nwo↘ma↘n ta↘ꭧu↓ʨjau↘ ʦai↘ ʂɤ↘ʨjau→ mei↗tʰi↓ ʂa↘ŋ pjau↓ʂɨ↘, tʰa→y↗ ꭧou→sɨ↘ wa↓nʨjɛ→n wei↘ kʰa↓la→ sa↘la→ ʂə↗nfu↘ ʨy↓ɕi↗ŋ lɤ mi↗sa→.\n",
      "12 “在我们继续哀悼阿鲁尔神父的离世时，我祈祷我们不要失去希望。上帝在我们困境中与我们同在，”诺曼大主教说。“祂能使恶中生善。” “ʦai↘ wo↓mən ʨi↘ɕy↘ ai→tau↘ a→ lu↓ɚ↓ ʂə↗nfu↘ tɤ li↗ʂɨ↘ ʂɨ↗, wo↓ ʨʰi↗tau↓ wo↓mən pu↗jau↘ ʂɨ→ʨʰy↘ ɕi→wa↘ŋ. ʂa↘ŋti↘ ʦai↘ wo↓mən kʰwə↘nʨi↘ŋ ꭧʊ→ŋ y↓ wo↓mən tʰʊ↗ŋ ʦai↘, ”nwo↘ma↘n ta↘ꭧu↓ʨjau↘ ʂwo→. “tʰa→ nə↗ŋ ʂɨ↓ ɤ↘ꭧʊ→ŋ ʂə→ŋʂa↘n. ”\n"
     ]
    }
   ],
   "source": [
    "from kokoro import KPipeline\n",
    "from IPython.display import display, Audio\n",
    "import soundfile as sf\n",
    "import torch\n",
    "pipeline = KPipeline(lang_code='z')\n",
    "text ='''\n",
    "神父在教区宿舍外遭枪击身亡\n",
    "\n",
    "作者：Claire Fahy，2025年4月5日 16:20:55\n",
    "\n",
    "据当局称，周四在堪萨斯州，一名男子在天主教教区宿舍外枪杀了一位神父，目前尚无明确作案动机。\n",
    "\n",
    "这位神父名叫阿鲁尔·卡拉萨拉（Arul Carasala），57岁。根据堪萨斯州调查局的消息，州警官于当天下午大约3点在堪萨斯州塞内卡市的圣彼得与圣保禄天主教教堂宿舍外发现了他身中数枪。神父随后被送往医院，但因伤势过重不治身亡。\n",
    "\n",
    "不久后，66岁的加里·L·赫梅施（Gary L. Hermesch）被当局逮捕，并以涉嫌一级谋杀的罪名被关押在内马哈县监狱。目前尚不清楚赫梅施被捕的具体原因，也无法确认他是否已聘请律师。\n",
    "\n",
    "关于这起枪击事件的动机，堪萨斯州调查局尚未给出解释，调查仍在继续。\n",
    "\n",
    "“这起毫无意义的暴力行为让我们失去了一位深受爱戴的神父、领袖和朋友，我们深感悲痛。”堪萨斯城的约瑟夫·F·诺曼大主教在 Facebook 上表示。他补充道：“让我们也为行凶者祈祷，愿上帝触动并改变他的内心。”\n",
    "\n",
    "塞内卡是堪萨斯州北部一个约有2,000人的小镇，靠近内布拉斯加州边界。当局表示，赫梅施来自俄克拉荷马州塔尔萨，距离塞内卡约300英里（约480公里）。\n",
    "\n",
    "拉杰·“阿鲁尔”·巴拉斯瓦米·卡拉萨拉神父出生于印度东南部城市库达帕。据一份在线传记介绍，卡拉萨拉神父于2011年7月15日成为圣彼得与圣保禄教区的本堂神父。\n",
    "\n",
    "他最初在库达帕教区被授予神职，2004年迁至堪萨斯州，曾在四个不同的教区任职，最终定居在塞内卡。\n",
    "\n",
    "根据传记，卡拉萨拉神父于2011年5月20日成为美国公民。他始终保持与印度的联系，并坚信“无论身在何处，教会即是家”。\n",
    "\n",
    "诺曼大主教在社交媒体上表示，他于周四晚间为卡拉萨拉神父举行了弥撒。\n",
    "\n",
    "“在我们继续哀悼阿鲁尔神父的离世时，我祈祷我们不要失去希望。上帝在我们困境中与我们同在，”诺曼大主教说。“祂能使恶中生善。”\n",
    "'''\n",
    "\n",
    "# '''\n",
    "# Priest Is Fatally Shot Outside His Parish Rectory, Claire Fahy, 2025-04-05 16:20:55, A man fatally shot a Catholic priest outside his parish rectory in Kansas on Thursday in an attack with no known motive, the authorities said.The priest, Arul Carasala, 57, was found with gunshot wounds at around 3 p.m. by state troopers outside the Saints Peter and Paul Catholic Church rectory in Seneca, Kan., according to the Kansas Bureau of Investigation. The priest was brought to a hospital where he died from his injuries.Shortly after, the authorities arrested Gary L. Hermesch, 66, who was booked into Nemaha County Jail on suspicion of first-degree murder, the bureau said. It remained unclear what led to Mr. Hermesch’s arrest. It was not immediately known if he had a lawyer.A motive was not immediately given for the shooting. The Kansas Bureau of Investigation said the investigation was ongoing.“This senseless act of violence has left us grieving the loss of a beloved priest, leader, and friend,” Archbishop Joseph F. Naumann of Kansas City said on Facebook. He added, “Let us also pray for the perpetrator, that God may touch and transform his heart.”Seneca is a town of about 2,000 people in northern Kansas, near the border with Nebraska. The authorities said Mr. Hermesch is from Tulsa, Okla., which is about 300 miles south of Seneca.Raj “Arul” Balaswamy Carasala was born in Cuddapah, India, a city in the country’s southeast. According to an online biography, Father Carasala became the pastor of Saints Peter and Paul parish on July 15, 2011.He was ordained in the Diocese of Cuddapah and moved in 2004 to Kansas, where he served in four different parishes before settling in Seneca.Father Carasala became an American citizen on May 20, 2011, according to the biography. He maintained his ties to India, and believed that “the church is home wherever he is.”Archbishop Naumann said Mass on Thursday evening in Father Carasala’s honor, according to social media posts.“While we continue to mourn the loss of Father Arul, I pray that we will not lose hope. God is with us in our adversity,” Archbishop Naumann said. “He can bring good out of evil.”\n",
    "# '''\n",
    "\n",
    "# '''\n",
    "# [Kokoro](/kˈOkəɹO/) is an open-weight TTS model with 82 million parameters. Despite its lightweight architecture, it delivers comparable quality to larger models while being significantly faster and more cost-efficient. With Apache-licensed weights, [Kokoro](/kˈOkəɹO/) can be deployed anywhere from production environments to personal projects.\n",
    "# '''\n",
    "generator = pipeline(text, voice='zf_xiaoyi')\n",
    "for i, (gs, ps, audio) in enumerate(generator):\n",
    "    print(i, gs, ps)\n",
    "    sf.write(f'{i}.wav', audio, 24000)"
   ]
  },
  {
   "cell_type": "code",
   "execution_count": null,
   "id": "ba38bfe3",
   "metadata": {},
   "outputs": [],
   "source": [
    "ffmpeg -i 0.wav -i 1.wav -i 2.wav -i 3.wav -i 4.wav -i 5.wav -filter_complex \"[0:a][1:a][2:a][3:a][4:a][5:a]concat=n=6:v=0:a=1\" output.wav"
   ]
  },
  {
   "cell_type": "code",
   "execution_count": 15,
   "id": "17f10595",
   "metadata": {},
   "outputs": [],
   "source": [
    "with open(\"filelist.txt\", \"w\") as f:\n",
    "    for i in range(12+1):  # Replace n with your actual number\n",
    "        f.write(f\"file '{i}.wav'\\n\")"
   ]
  },
  {
   "cell_type": "code",
   "execution_count": 1,
   "id": "a139a35d",
   "metadata": {},
   "outputs": [
    {
     "name": "stderr",
     "output_type": "stream",
     "text": [
      "c:\\Users\\16507\\anaconda3\\envs\\TTS\\lib\\site-packages\\tqdm\\auto.py:21: TqdmWarning: IProgress not found. Please update jupyter and ipywidgets. See https://ipywidgets.readthedocs.io/en/stable/user_install.html\n",
      "  from .autonotebook import tqdm as notebook_tqdm\n"
     ]
    }
   ],
   "source": [
    "import mysql.connector;\n",
    "from kokoro import KPipeline\n",
    "from IPython.display import display, Audio\n",
    "import soundfile as sf\n",
    "from datetime import datetime"
   ]
  },
  {
   "cell_type": "code",
   "execution_count": 2,
   "id": "681f5a59",
   "metadata": {},
   "outputs": [
    {
     "name": "stdout",
     "output_type": "stream",
     "text": [
      "WARNING: Defaulting repo_id to hexgrad/Kokoro-82M. Pass repo_id='hexgrad/Kokoro-82M' to suppress this warning.\n"
     ]
    },
    {
     "name": "stderr",
     "output_type": "stream",
     "text": [
      "c:\\Users\\16507\\anaconda3\\envs\\TTS\\lib\\site-packages\\torch\\nn\\modules\\rnn.py:123: UserWarning: dropout option adds dropout after all but last recurrent layer, so non-zero dropout expects num_layers greater than 1, but got dropout=0.2 and num_layers=1\n",
      "  warnings.warn(\n",
      "c:\\Users\\16507\\anaconda3\\envs\\TTS\\lib\\site-packages\\torch\\nn\\utils\\weight_norm.py:143: FutureWarning: `torch.nn.utils.weight_norm` is deprecated in favor of `torch.nn.utils.parametrizations.weight_norm`.\n",
      "  WeightNorm.apply(module, name, dim)\n"
     ]
    }
   ],
   "source": [
    "hour = 24\n",
    "pipeline = KPipeline(lang_code='a')\n",
    "mysql_host = \"192.168.0.202\" #'news-mysql'\n",
    "mysql_port = 4000 #3306\n",
    "db_conn = mysql.connector.connect(\n",
    "    host=mysql_host,\n",
    "    port=mysql_port,\n",
    "    user=\"root\",\n",
    "    password=\"password\",\n",
    "    database=\"news\"\n",
    ")\n",
    "cursor = db_conn.cursor(dictionary=True)\n",
    "# sql = f\"select * from news where date >= NOW() - INTERVAL {hour} HOUR;\"\n",
    "sql = \"select * from news where news_id = 32073;\"\n",
    "\n",
    "cursor.execute(sql)\n",
    "rows = cursor.fetchall()\n",
    "\n"
   ]
  },
  {
   "cell_type": "code",
   "execution_count": 3,
   "id": "2af9b01d",
   "metadata": {},
   "outputs": [],
   "source": [
    "def get_greeting(hour):\n",
    "    if 5 <= hour < 12:\n",
    "        return \"Good morning\"\n",
    "    elif 12 <= hour < 18:\n",
    "        return \"Good afternoon\"\n",
    "    elif 18 <= hour < 22:\n",
    "        return \"Good evening\"\n",
    "    else:\n",
    "        return \"Good night\""
   ]
  },
  {
   "cell_type": "code",
   "execution_count": 4,
   "id": "70724853",
   "metadata": {},
   "outputs": [],
   "source": [
    "greeting = get_greeting(datetime.now().hour)\n",
    "date_str = datetime.now().strftime(\"%B %d, %Y\")\n",
    "total_news = len(rows)"
   ]
  },
  {
   "cell_type": "code",
   "execution_count": 5,
   "id": "9d8e72f8",
   "metadata": {},
   "outputs": [],
   "source": [
    "companies = {row['news_company'] for row in rows if row['news_company']}\n",
    "company_str = \", \".join(companies) if companies else \"various sources\""
   ]
  },
  {
   "cell_type": "code",
   "execution_count": 6,
   "id": "92a3e826",
   "metadata": {},
   "outputs": [],
   "source": [
    "message = f\"{greeting}! Today is {date_str}. There are {total_news} news articles from {company_str} in the past {hour} hours.\""
   ]
  },
  {
   "cell_type": "code",
   "execution_count": 39,
   "id": "998b9a46",
   "metadata": {},
   "outputs": [
    {
     "data": {
      "text/plain": [
       "'Good evening! Today is April 12, 2025. There are 3 news articles from nytime in the past 24 hours.'"
      ]
     },
     "execution_count": 39,
     "metadata": {},
     "output_type": "execute_result"
    }
   ],
   "source": [
    "message"
   ]
  },
  {
   "cell_type": "code",
   "execution_count": 7,
   "id": "46cd6a1b",
   "metadata": {},
   "outputs": [
    {
     "name": "stdout",
     "output_type": "stream",
     "text": [
      "1 U.S. Adds Fees for Chinese Ships in Effort to Boost Shipbuilding Peter Eavis and Ana Swanson The Trump administration has introduced new, albeit softened, regulations aimed at curbing China's dominance in commercial shipping and revitalizing the U.S. shipbuilding industry. These rules will impose fees on Chinese shipping companies and owners of Chinese-built ships docking at U.S. ports, with the aim of counteracting China's unfair trade practices, such as subsidies, in the shipbuilding sector. The rules include a provision for refunds on fees for shipping lines that purchase American-made ships in the coming years.\n",
      "\n",
      "The move stems from a petition initiated during the Biden administration by unions concerned about China's impact on U.S. commerce in shipbuilding. While both Democrats and Republicans share concerns about relying too heavily on Chinese shipping, some critics worry that penalizing Chinese shipping could disrupt supply chains and increase costs for American consumers.\n",
      "\n",
      "The revised rules are more lenient than initially proposed, exempting smaller vessels and voyages under 2,000 nautical miles, and calculating fees based on weight or container number, rather than a flat rate. However, skeptics within the maritime industry doubt the rules will significantly boost U.S. shipbuilding due to capacity limitations and higher costs compared to foreign shipyards. Experts suggest that the new regulations may prompt shipping lines to adjust their operations to minimize costs by re-deploying ships.\n",
      "\n",
      "The rules also target the U.S. liquefied natural gas (LNG) export market, requiring 1% of LNG exports to be carried on American-built vessels by 2029. Critics argue that this goal is unrealistic due to the lack of U.S. shipyard capacity and expertise in building LNG carriers.\n"
     ]
    }
   ],
   "source": [
    "for idx, row in enumerate(rows, start=1):\n",
    "  title = row.get('title', 'Untitled')\n",
    "  author = row.get('author', 'Unknown Author')\n",
    "  context = row.get('summary', '').strip()\n",
    "  print(idx, title, author, context)\n",
    "  message += f\"{idx}. \\\"{title}\\\" written by {author}. {context}\"\n",
    "\n",
    "message += \"That’s all the news for today. Stay informed!\"\n"
   ]
  },
  {
   "cell_type": "code",
   "execution_count": 8,
   "id": "0fb918fa",
   "metadata": {},
   "outputs": [
    {
     "name": "stdout",
     "output_type": "stream",
     "text": [
      "0 Good night! Today is April 19, 2025. There are 1 news articles from nytime in the past 24 hours.1. \"U.S. Adds Fees for Chinese Ships in Effort to Boost Shipbuilding\" written by Peter Eavis and Ana Swanson. The Trump administration has introduced new, albeit softened, regulations aimed at curbing China's dominance in commercial shipping and revitalizing the U.S. shipbuilding industry. ɡˈʊd nˈIt! tədˈA ɪz ˈApɹəl nˌIntˈin, twˈɛnti twˈɛnti fˈIv. ðˌɛɹ ɑɹ wˈʌn nˈuz ˈɑɹTəkᵊlz fɹʌm nˈItIm ɪn ðə pˈæst twˈɛnti fˈɔɹ ˈWəɹz wˈʌn. “jˌuˈɛs ˈædz fˈiz fɔɹ ʧˌInˈiz ʃˈɪps ɪn ˈɛfəɹt tə bˈust ʃˈɪpbˌɪldɪŋ” ɹˈɪtn bI pˈiTəɹ ˈivɪs ænd ˈɑnə swˈɑnsən. ðə tɹˈʌmp ədmˌɪnəstɹˈAʃən hæz ˌɪntɹədˈust nˈu, ælbˈiət sˈɔfənd, ɹˌɛɡjəlˈAʃənz ˈAmd æt kˈɜɹbɪŋ ʧˈInəz dˈɑmənəns ɪn kəmˈɜɹʃəl ʃˈɪpɪŋ ænd ɹᵻvˈITᵊlˌIzɪŋ ðə jˌuˈɛs ʃˈɪpbˌɪldɪŋ ˈɪndəstɹi.\n",
      "1 These rules will impose fees on Chinese shipping companies and owners of Chinese-built ships docking at U.S. ports, with the aim of counteracting China's unfair trade practices, such as subsidies, in the shipbuilding sector. The rules include a provision for refunds on fees for shipping lines that purchase American-made ships in the coming years. ðˌiz ɹˈulz wɪl ɪmpˈOz fˈiz ˌɔn ʧˌInˈiz ʃˈɪpɪŋ kˈʌmpᵊniz ænd ˈOnəɹz ʌv ʧˌInˈizbˌɪlt ʃˈɪps dˈɑkɪŋ æt jˌuˈɛs pˈɔɹts, wɪð ði ˈAm ʌv kˌWntəɹˈæktɪŋ ʧˈInəz ˌʌnfˈɛɹ tɹˈAd pɹˈæktəsᵻz, sˈʌʧ æz sˈʌbsədiz, ɪn ðə ʃˈɪpbˌɪldɪŋ sˈɛktəɹ. ðə ɹˈulz ɪnklˈud ɐ pɹəvˈɪʒᵊn fɔɹ ɹˈifˌʌndz ˌɔn fˈiz fɔɹ ʃˈɪpɪŋ lˈInz ðæt pˈɜɹʧəs əmˈɛɹəkᵊnmˌAd ʃˈɪps ɪn ðə kˈʌmɪŋ jˈɪɹz.\n",
      "2 The move stems from a petition initiated during the Biden administration by unions concerned about China's impact on U.S. commerce in shipbuilding. While both Democrats and Republicans share concerns about relying too heavily on Chinese shipping, some critics worry that penalizing Chinese shipping could disrupt supply chains and increase costs for American consumers. ðə mˈuv stˈɛmz fɹʌm ɐ pətˈɪʃən ɪnˈɪʃiˌATᵻd dˈʊɹɪŋ ðə bˈIdən ədmˌɪnəstɹˈAʃən bI jˈunjənz kənsˈɜɹnd əbˈWt ʧˈInəz ˈɪmpˌækt ˌɔn jˌuˈɛs kˈɑməɹs ɪn ʃˈɪpbˌɪldɪŋ. wˌIl bˈOθ dˈɛməkɹˌæts ænd ɹəpˈʌbləkᵊnz ʃˈɛɹ kənsˈɜɹnz əbˈWt ɹᵻlˈIɪŋ tˈu hˈɛvəli ˌɔn ʧˌInˈiz ʃˈɪpɪŋ, sˌʌm kɹˈɪTɪks wˈɜɹi ðæt pˈinᵊlˌIzɪŋ ʧˌInˈiz ʃˈɪpɪŋ kʊd dɪsɹˈʌpt səplˈI ʧˈAnz ænd ɪnkɹˈis kˈɔsts fɔɹ əmˈɛɹəkᵊn kənsˈuməɹz.\n",
      "3 The revised rules are more lenient than initially proposed, exempting smaller vessels and voyages under 2,000 nautical miles, and calculating fees based on weight or container number, rather than a flat rate. However, skeptics within the maritime industry doubt the rules will significantly boost U.S. shipbuilding due to capacity limitations and higher costs compared to foreign shipyards. ðə ɹəvˈIzd ɹˈulz ɑɹ mˈɔɹ lˈinjənt ðən ɪnˈɪʃᵊli pɹəpˈOzd, ɛɡzˈɛmptɪŋ smˈɔləɹ vˈɛsᵊlz ænd vˈYɪʤᵻz ˈʌndəɹ tˈu θˈWzᵊnd nˈɔTəkəl mˈIlz, ænd kˈælkjəlˌATɪŋ fˈiz bˈAst ˌɔn wˈAt ɔɹ kəntˈAnəɹ nˈʌmbəɹ, ɹˈæðəɹ ðən ɐ flˈæt ɹˈAt. hWˈɛvəɹ, skˈɛptɪks wɪðˈɪn ðə mˈɛɹətˌIm ˈɪndəstɹi dˈWt ðə ɹˈulz wɪl səɡnˈɪfəkəntli bˈust jˌuˈɛs ʃˈɪpbˌɪldɪŋ dˈu tə kəpˈæsəTi lˌɪmətˈAʃənz ænd hˈIəɹ kˈɔsts kəmpˈɛɹd tə fˈɔɹən ʃˈɪpjˌɑɹdz.\n",
      "4 Experts suggest that the new regulations may prompt shipping lines to adjust their operations to minimize costs by re-deploying ships. ˈɛkspˌɜɹts səɡʤˈɛst ðæt ðə nˈu ɹˌɛɡjəlˈAʃənz mˈA pɹˈɑmpt ʃˈɪpɪŋ lˈInz tʊ əʤˈʌst ðɛɹ ˌɑpəɹˈAʃənz tə mˈɪnəmˌIz kˈɔsts bI ɹˌidᵻplˈYɪŋ ʃˈɪps.\n",
      "5 The rules also target the U.S. liquefied natural gas (LNG) export market, requiring 1% of LNG exports to be carried on American-built vessels by 2029. Critics argue that this goal is unrealistic due to the lack of U.S. shipyard capacity and expertise in building LNG carriers.That’s all the news for today. Stay informed! ðə ɹˈulz ˈɔlsO tˈɑɹɡət ðə jˌuˈɛs lˈɪkwɪfˌId nˈæʧəɹᵊl ɡˈæs (ˌɛlˌɛnʤˈi) ˈɛkspˌɔɹt mˈɑɹkət, ɹəkwˈIəɹɪŋ wˈʌn pəɹsˈɛnt ʌv ˌɛlˌɛnʤˈi ˈɛkspˌɔɹts tə bi kˈɛɹid ˌɔn əmˈɛɹəkᵊnbˌɪlt vˈɛsᵊlz bI twˈɛnti twˈɛnti nˈIn. kɹˈɪTɪks ˈɑɹɡju ðæt ðɪs ɡˈOl ɪz ˌʌnɹˌiəlˈɪstɪk dˈu tə ðə lˈæk ʌv jˌuˈɛs ʃˈɪpjˌɑɹd kəpˈæsəTi ænd ˌɛkspˌɜɹtˈiz ɪn bˈɪldɪŋ ˌɛlˌɛnʤˈi kˈɛɹiəɹz.ðˈæts ˈɔl ðə nˈuz fɔɹ tədˈA. stˈA ɪnfˈɔɹmd!\n"
     ]
    }
   ],
   "source": [
    "text = \"\"\n",
    "\n",
    "generator = pipeline(message, voice='af_heart')\n",
    "for i, (gs, ps, audio) in enumerate(generator):\n",
    "    print(i, gs, ps)\n",
    "    sf.write(f'{i}.wav', audio, 24000)"
   ]
  },
  {
   "cell_type": "code",
   "execution_count": 9,
   "id": "3ac529bb",
   "metadata": {},
   "outputs": [],
   "source": [
    "from pydub import AudioSegment"
   ]
  },
  {
   "cell_type": "code",
   "execution_count": 10,
   "id": "06c943b6",
   "metadata": {},
   "outputs": [
    {
     "data": {
      "text/plain": [
       "<_io.BufferedRandom name='output.wav'>"
      ]
     },
     "execution_count": 10,
     "metadata": {},
     "output_type": "execute_result"
    }
   ],
   "source": [
    "output = AudioSegment.empty()\n",
    "\n",
    "n = 5 \n",
    "for i in range(n + 1):  # include 0.wav to n.wav\n",
    "    file_name = f\"{i}.wav\"\n",
    "    audio = AudioSegment.from_wav(file_name)\n",
    "    output += audio  # append\n",
    "\n",
    "output.export(\"output.wav\", format=\"wav\")"
   ]
  }
 ],
 "metadata": {
  "kernelspec": {
   "display_name": "TTS",
   "language": "python",
   "name": "python3"
  },
  "language_info": {
   "codemirror_mode": {
    "name": "ipython",
    "version": 3
   },
   "file_extension": ".py",
   "mimetype": "text/x-python",
   "name": "python",
   "nbconvert_exporter": "python",
   "pygments_lexer": "ipython3",
   "version": "3.10.16"
  }
 },
 "nbformat": 4,
 "nbformat_minor": 5
}
