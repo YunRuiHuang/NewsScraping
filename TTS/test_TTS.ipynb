{
 "cells": [
  {
   "cell_type": "code",
   "execution_count": 2,
   "id": "c5017cab",
   "metadata": {},
   "outputs": [],
   "source": [
    "from kokoro import KPipeline\n",
    "import soundfile as sf\n",
    "from pydub import AudioSegment\n",
    "# import pika;\n",
    "import json;\n",
    "import time;\n",
    "import mysql.connector;\n",
    "import requests"
   ]
  },
  {
   "cell_type": "code",
   "execution_count": 25,
   "id": "9ddc8fec",
   "metadata": {},
   "outputs": [],
   "source": [
    "mq_host = '192.168.0.202'\n",
    "mq_port = 5672\n",
    "mysql_host = '192.168.0.202'\n",
    "mysql_port = 4000\n",
    "url = \"http://localhost:3002/file\"\n",
    "get_sql = \"SELECT news_id, summary, title, author FROM news WHERE URL = %s\""
   ]
  },
  {
   "cell_type": "code",
   "execution_count": 17,
   "id": "07c44153",
   "metadata": {},
   "outputs": [],
   "source": [
    "db_conn = mysql.connector.connect(\n",
    "    host=mysql_host,\n",
    "    port=mysql_port,\n",
    "    user=\"root\",\n",
    "    password=\"password\",\n",
    "    database=\"news\"\n",
    ")\n",
    "cursor = db_conn.cursor(dictionary=True)"
   ]
  },
  {
   "cell_type": "code",
   "execution_count": 18,
   "id": "1cffd6cd",
   "metadata": {},
   "outputs": [
    {
     "name": "stdout",
     "output_type": "stream",
     "text": [
      "WARNING: Defaulting repo_id to hexgrad/Kokoro-82M. Pass repo_id='hexgrad/Kokoro-82M' to suppress this warning.\n"
     ]
    },
    {
     "name": "stderr",
     "output_type": "stream",
     "text": [
      "c:\\Users\\16507\\anaconda3\\envs\\TTS\\lib\\site-packages\\torch\\nn\\modules\\rnn.py:123: UserWarning: dropout option adds dropout after all but last recurrent layer, so non-zero dropout expects num_layers greater than 1, but got dropout=0.2 and num_layers=1\n",
      "  warnings.warn(\n",
      "c:\\Users\\16507\\anaconda3\\envs\\TTS\\lib\\site-packages\\torch\\nn\\utils\\weight_norm.py:143: FutureWarning: `torch.nn.utils.weight_norm` is deprecated in favor of `torch.nn.utils.parametrizations.weight_norm`.\n",
      "  WeightNorm.apply(module, name, dim)\n"
     ]
    }
   ],
   "source": [
    "pipeline = KPipeline(lang_code='a')"
   ]
  },
  {
   "cell_type": "code",
   "execution_count": null,
   "id": "79923947",
   "metadata": {},
   "outputs": [],
   "source": [
    "test_url = 'https://www.nytimes.com/2025/04/24/world/asia/india-pakistan-indus-waters-treaty.html'"
   ]
  },
  {
   "cell_type": "code",
   "execution_count": null,
   "id": "ef793767",
   "metadata": {},
   "outputs": [],
   "source": [
    "cursor.execute(get_sql,(test_url,))\n",
    "rows = cursor.fetchall()\n",
    "summary = rows[0]['summary']\n",
    "title = rows[0]['title']\n",
    "author = rows[0]['author']\n",
    "new_id = rows[0]['news_id']\n",
    "text = f\"\\\"{title}\\\" written by {author}. {summary}\""
   ]
  },
  {
   "cell_type": "code",
   "execution_count": 21,
   "id": "b6aa705d",
   "metadata": {},
   "outputs": [
    {
     "data": {
      "text/plain": [
       "43253"
      ]
     },
     "execution_count": 21,
     "metadata": {},
     "output_type": "execute_result"
    }
   ],
   "source": [
    "new_id"
   ]
  },
  {
   "cell_type": "code",
   "execution_count": 22,
   "id": "a3b404db",
   "metadata": {},
   "outputs": [
    {
     "name": "stdout",
     "output_type": "stream",
     "text": [
      "0 \"How India’s Threat to Block Rivers Could Devastate Pakistan\" written by Anupreeta Das, Pragati K.B. and Zia ur-Rehman. Following a militant attack that killed 26 civilians in Indian-controlled Kashmir, India announced it would suspend its participation in the Indus Waters Treaty with Pakistan. This treaty, brokered in 1960 with the World Bank's mediation, allocates the use of six rivers and their tributaries between the two countries. “hˌW ˈɪndiəz θɹˈɛt tə blˈɑk ɹˈɪvəɹz kˌʊd dˈɛvəstˌAt pˈækəstˌæn” ɹˈɪtn bI ˈænəpɹˌiTə dˌəz, pɹæɡˈɑTi kˌAbˈi ænd zˈiə ˈɜɹᵻhmˈæn. fˈɑlOɪŋ ɐ mˈɪlətᵊnt ətˈæk ðæt kˈɪld twˈɛnti sˈɪks səvˈɪljənz ɪn ˌɪndiənkəntɹˈOld kˈæʃmˌɪɹ, ˈɪndiə ənˈWnst ɪt wʊd səspˈɛnd ɪts pɑɹtˌɪsəpˈAʃən ɪn ði ˈɪndəs wˈɔTəɹz tɹˈiTi wɪð pˈækəstˌæn. ðˌɪs tɹˈiTi, bɹˈOkəɹd ɪn nˌIntˈin sˈɪksti wɪð ðə wˈɜɹld bˈæŋks mˌidiˈAʃən, ˈæləkˌAts ðə jˈus ʌv sˈɪks ɹˈɪvəɹz ænd ðɛɹ tɹˈɪbjətˌɛɹiz bətwˈin ðə tˈu kˈʌntɹiz.\n",
      "1 India has unrestricted access to the eastern rivers (Ravi, Sutlej, and Beas), while Pakistan controls the western rivers (Indus, Chenab, and Jhelum), with India obligated to allow their free flow. ˈɪndiə hæz ˌʌnɹəstɹˈɪktᵻd ˈæksˌɛs tə ði ˈistəɹn ɹˈɪvəɹz (ɹˈɑvi, sˈʌtlɪʤ, ænd bˈiɑs), wˌIl pˈækəstˌæn kəntɹˈOlz ðə wˈɛstəɹn ɹˈɪvəɹz (ˈɪndəs, ʧənˈɑb, ænd ʤˈAləm), wɪð ˈɪndiə ˈɑbləɡˌATᵻd tʊ əlˈW ðɛɹ fɹˈi flˈO.\n",
      "2 Pakistan views any blockage of water as an \"act of war,\" given its heavy reliance on these waters for agriculture, which constitutes a quarter of its economy. Potential consequences for Pakistan include exacerbated water shortages, especially in key agricultural provinces, and the risk of unnotified water releases from India triggering floods. Additionally, withholding hydrological data by India could severely impact Pakistani farmers. pˈækəstˌæn vjˈuz ˈɛni blˈɑkɪʤ ʌv wˈɔTəɹ æz ɐn “ˈækt ʌv wˈɔɹ,” ɡˈɪvən ɪts hˈɛvi ɹəlˈIəns ˌɔn ðiz wˈɔTəɹz fɔɹ ˈæɡɹəkˌʌlʧəɹ, wˌɪʧ kˈɑnstətˌuts ɐ kwˈɔɹTəɹ ʌv ɪts ikˈɑnəmi. pətˈɛnʧᵊl kˈɑnsəkwənsᵻz fɔɹ pˈækəstˌæn ɪnklˈud ɪɡzˈæsəɹbˌATᵻd wˈɔTəɹ ʃˈɔɹTɪʤᵻz, əspˈɛʃəli ɪn kˈi ˌæɡɹəkˈʌlʧəɹəl pɹˈɑvᵊnsᵻz, ænd ðə ɹˈɪsk ʌv ʌnnˈɑTᵻfˌId wˈɔTəɹ ɹəlˈisᵻz fɹʌm ˈɪndiə tɹˈɪɡəɹɪŋ flˈʌdz. ədˈɪʃᵊnəli, wɪθhˈOldɪŋ hˌIdɹəlˈɑʤəkᵊl dˈATə bI ˈɪndiə kʊd səvˈɪɹli ˈɪmpˌækt pˌækəstˈæni fˈɑɹməɹz.\n",
      "3 While the move may resonate positively within India, it risks international criticism. Some analysts suggest Pakistan could leverage this situation to seek international legal intervention and a review of the treaty. Rising anti-India sentiment in Pakistan has led to accusations of \"water terrorism.\" wˌIl ðə mˈuv mˈA ɹˈɛzᵊnˌAt pˈɑzəTəvli wɪðˈɪn ˈɪndiə, ɪt ɹˈɪsks ˌɪntəɹnˈæʃᵊnəl kɹˈɪTəsˌɪzəm. sˌʌm ˈænələsts səɡʤˈɛst pˈækəstˌæn kʊd lˈɛvəɹɪʤ ðɪs sˌɪʧəwˈAʃən tə sˈik ˌɪntəɹnˈæʃᵊnəl lˈiɡəl ˌɪntəɹvˈɛnʧᵊn ænd ɐ ɹəvjˈu ʌv ðə tɹˈiTi. ɹˈIzɪŋ ˈæntˌIˌɪndiə sˈɛntəmᵊnt ɪn pˈækəstˌæn hæz lˈɛd tʊ ˌækjəzˈAʃənz ʌv “wˈɔTəɹ tˈɛɹəɹˌɪzəm.”\n"
     ]
    }
   ],
   "source": [
    "generator = pipeline(text, voice='af_heart')\n",
    "n = 0\n",
    "for i, (gs, ps, audio) in enumerate(generator):\n",
    "    n = i\n",
    "    print(i, gs, ps)\n",
    "    sf.write(f'{i}.wav', audio, 24000)"
   ]
  },
  {
   "cell_type": "code",
   "execution_count": 23,
   "id": "b261c346",
   "metadata": {},
   "outputs": [
    {
     "data": {
      "text/plain": [
       "<_io.BufferedRandom name='output.wav'>"
      ]
     },
     "execution_count": 23,
     "metadata": {},
     "output_type": "execute_result"
    }
   ],
   "source": [
    "output = AudioSegment.empty()\n",
    "for i in range(n + 1):  # include 0.wav to n.wav\n",
    "    file_name = f\"{i}.wav\"\n",
    "    audio = AudioSegment.from_wav(file_name)\n",
    "    output += audio  # append\n",
    "\n",
    "output.export(\"output.wav\", format=\"wav\")"
   ]
  },
  {
   "cell_type": "code",
   "execution_count": 26,
   "id": "d2589db9",
   "metadata": {},
   "outputs": [],
   "source": [
    "files = {\n",
    "  \"file\": open(\"output.wav\", \"rb\")\n",
    "}\n",
    "\n",
    "data = {\n",
    "  \"fileName\": new_id,\n",
    "  \"fileType\": \"wav\"\n",
    "}\n",
    "\n",
    "response = requests.post(url, files=files, data=data)"
   ]
  }
 ],
 "metadata": {
  "kernelspec": {
   "display_name": "TTS",
   "language": "python",
   "name": "python3"
  },
  "language_info": {
   "codemirror_mode": {
    "name": "ipython",
    "version": 3
   },
   "file_extension": ".py",
   "mimetype": "text/x-python",
   "name": "python",
   "nbconvert_exporter": "python",
   "pygments_lexer": "ipython3",
   "version": "3.10.16"
  }
 },
 "nbformat": 4,
 "nbformat_minor": 5
}
